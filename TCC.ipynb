{
  "cells": [
    {
      "cell_type": "markdown",
      "metadata": {
        "id": "view-in-github",
        "colab_type": "text"
      },
      "source": [
        "<a href=\"https://colab.research.google.com/github/SmyrnaSc/TCC/blob/main/TCC.ipynb\" target=\"_parent\"><img src=\"https://colab.research.google.com/assets/colab-badge.svg\" alt=\"Open In Colab\"/></a>"
      ]
    },
    {
      "cell_type": "code",
      "source": [
        "from google.colab import drive\n",
        "drive.mount('/content/drive')"
      ],
      "metadata": {
        "colab": {
          "base_uri": "https://localhost:8080/"
        },
        "id": "kC3ca0F0trSK",
        "outputId": "7d32bf36-c7bb-4a6f-9f8e-f0a421b7ca16"
      },
      "execution_count": null,
      "outputs": [
        {
          "output_type": "stream",
          "name": "stdout",
          "text": [
            "Mounted at /content/drive\n"
          ]
        }
      ]
    },
    {
      "cell_type": "markdown",
      "source": [
        "Teste com pandas"
      ],
      "metadata": {
        "id": "pdBiliK4gOFW"
      }
    },
    {
      "cell_type": "code",
      "source": [
        "import pandas as pd"
      ],
      "metadata": {
        "id": "jNk9hV243Z6v"
      },
      "execution_count": null,
      "outputs": []
    },
    {
      "cell_type": "code",
      "source": [
        "dataset = pd.read_csv(\"/content/drive/MyDrive/TCC_BANCOS/online-misogyny-eacl2021-main/data/final_labels.csv\")"
      ],
      "metadata": {
        "id": "xWqdSXpE5zE0"
      },
      "execution_count": null,
      "outputs": []
    },
    {
      "cell_type": "code",
      "source": [
        "dataset.groupby('level_1')['level_1'].count()"
      ],
      "metadata": {
        "colab": {
          "base_uri": "https://localhost:8080/"
        },
        "id": "M6tG-bAo7fUr",
        "outputId": "356b9725-5424-4bb9-f500-5560521be584"
      },
      "execution_count": null,
      "outputs": [
        {
          "output_type": "execute_result",
          "data": {
            "text/plain": [
              "level_1\n",
              "Misogynistic        699\n",
              "Nonmisogynistic    5868\n",
              "Name: level_1, dtype: int64"
            ]
          },
          "metadata": {},
          "execution_count": 4
        }
      ]
    },
    {
      "cell_type": "markdown",
      "source": [
        "Fim do teste com pandas"
      ],
      "metadata": {
        "id": "hmNL_1UHgQ7H"
      }
    },
    {
      "cell_type": "code",
      "source": [
        "!pip install pyspark"
      ],
      "metadata": {
        "colab": {
          "base_uri": "https://localhost:8080/"
        },
        "id": "dvp0NIhUItS8",
        "outputId": "9b2b327e-ad23-4f75-a331-ceaf1ea6af05"
      },
      "execution_count": null,
      "outputs": [
        {
          "output_type": "stream",
          "name": "stdout",
          "text": [
            "Looking in indexes: https://pypi.org/simple, https://us-python.pkg.dev/colab-wheels/public/simple/\n",
            "Collecting pyspark\n",
            "  Downloading pyspark-3.3.1.tar.gz (281.4 MB)\n",
            "\u001b[K     |████████████████████████████████| 281.4 MB 47 kB/s \n",
            "\u001b[?25hCollecting py4j==0.10.9.5\n",
            "  Downloading py4j-0.10.9.5-py2.py3-none-any.whl (199 kB)\n",
            "\u001b[K     |████████████████████████████████| 199 kB 52.8 MB/s \n",
            "\u001b[?25hBuilding wheels for collected packages: pyspark\n",
            "  Building wheel for pyspark (setup.py) ... \u001b[?25l\u001b[?25hdone\n",
            "  Created wheel for pyspark: filename=pyspark-3.3.1-py2.py3-none-any.whl size=281845513 sha256=337f64585a4a181c0f7a516c9fe51ebb9436ad0e69553c131f8039c389e2217c\n",
            "  Stored in directory: /root/.cache/pip/wheels/42/59/f5/79a5bf931714dcd201b26025347785f087370a10a3329a899c\n",
            "Successfully built pyspark\n",
            "Installing collected packages: py4j, pyspark\n",
            "Successfully installed py4j-0.10.9.5 pyspark-3.3.1\n"
          ]
        }
      ]
    },
    {
      "cell_type": "code",
      "source": [
        "from pyspark.sql import SparkSession\n",
        "\n",
        "spark = SparkSession.builder \\\n",
        "    .master('local[*]') \\\n",
        "    .appName(\"analise_nlp\") \\\n",
        "    .getOrCreate()"
      ],
      "metadata": {
        "id": "qxpSYDJsI2Dj"
      },
      "execution_count": null,
      "outputs": []
    },
    {
      "cell_type": "code",
      "source": [
        "dados = spark.read.csv(\"/content/drive/MyDrive/TCC_BANCOS/online-misogyny-eacl2021-main/data/final_labels.csv\",\n",
        "                       escape = '\\\"',\n",
        "                       inferSchema= True,\n",
        "                       header = True)"
      ],
      "metadata": {
        "id": "H2T18FB1LqK4"
      },
      "execution_count": null,
      "outputs": []
    },
    {
      "cell_type": "code",
      "source": [
        "dados.show()"
      ],
      "metadata": {
        "colab": {
          "base_uri": "https://localhost:8080/"
        },
        "id": "yP1XMb75Kc1e",
        "outputId": "dd458911-2c79-44a0-8dce-9b1ed81b26c7"
      },
      "execution_count": null,
      "outputs": [
        {
          "output_type": "stream",
          "name": "stdout",
          "text": [
            "+-------------+--------------------+--------------------+----------+----------------+--------------------+--------------------+---------------+--------------------+--------------------+-----+------------+---------------+--------------------+-----------------+--------------------+--------------------+-----+\n",
            "|     entry_id|             link_id|           parent_id| entry_utc|       subreddit|              author|                body|          image|          label_date|                week|group| sheet_order|        level_1|             level_2|          level_3|            strength|           highlight|split|\n",
            "+-------------+--------------------+--------------------+----------+----------------+--------------------+--------------------+---------------+--------------------+--------------------+-----+------------+---------------+--------------------+-----------------+--------------------+--------------------+-----+\n",
            "|       exoxn7|           t3_exoxn7|                null|1580652620|badwomensanatomy|           doggodone|Do you have the s...|            Yes|          17-02-2020|                   1|    1|        (1,)|Nonmisogynistic|None_of_the_categ...|             null|                null|                null|train|\n",
            "|      fgb3bdv|           t3_exoxn7|           t3_exoxn7|1580658139|badwomensanatomy|            Machaeon|This is taking a ...|           null|                null|                null| null|        null|           null|                null|             null|                null|                null| null|\n",
            "|Stay hydrated|        it's healthy| you'll look and ...|      null|      17-02-2020|                   1|                   1|         (1, 1)|     Nonmisogynistic|None_of_the_categ...| null|        null|           null|               train|             null|                null|                null| null|\n",
            "|      fgc6tlu|           t3_exoxn7|           t3_exoxn7|1580669695|badwomensanatomy|CuniculusVincitOmnia|Honestly my favor...|           null|          17-02-2020|                   1|    1|      (1, 2)|Nonmisogynistic|None_of_the_categ...|             null|                null|                null| test|\n",
            "|      fge6msg|           t3_exoxn7|          t1_fgc6tlu|1580692566|badwomensanatomy|            its331am|Source? Doesnt so...|           null|          17-02-2020|                   1|    1|   (1, 2, 1)|Nonmisogynistic|None_of_the_categ...|             null|                null|                null| test|\n",
            "|      fgawus5|           t3_exoxn7|           t3_exoxn7|1580656280|badwomensanatomy|           JaxDefore|Damn, I saw a mov...|           null|          17-02-2020|                   1|    1|      (1, 3)|   Misogynistic|          Derogation|Moral_inferiority|Nature of the abu...|old woman bathed ...|train|\n",
            "|      fgctirr|           t3_exoxn7|          t1_fgawus5|1580676096|badwomensanatomy|         LordsOfJoop|It's a question o...|           null|                null|                null| null|        null|           null|                null|             null|                null|                null| null|\n",
            "|    Obviously| the people from ...|                null|17-02-2020|               1|                   1|           (1, 3, 1)|Nonmisogynistic|None_of_the_categ...|                null| null|        null|          train|                null|             null|                null|                null| null|\n",
            "|      fgdomwf|           t3_exoxn7|          t1_fgctirr|1580684792|badwomensanatomy|      Lengthofawhile|Some places have ...|           null|          17-02-2020|                   1|    1|(1, 3, 1, 1)|Nonmisogynistic|None_of_the_categ...|             null|                null|                null|train|\n",
            "|      fgbwoi5|           t3_exoxn7|           t3_exoxn7|1580666780|badwomensanatomy|        OrdinarySlav|So if I drink eno...|           null|          17-02-2020|                   1|    1|      (1, 4)|Nonmisogynistic|None_of_the_categ...|             null|                null|                null|train|\n",
            "|      fgbxtc0|           t3_exoxn7|          t1_fgbwoi5|1580667138|badwomensanatomy|       ladybugparade|You'll Benjamin B...|           null|          17-02-2020|                   1|    1|   (1, 4, 1)|Nonmisogynistic|None_of_the_categ...|             null|                null|                null|train|\n",
            "|      fgdmluh|           t3_exoxn7|           t3_exoxn7|1580684099|badwomensanatomy|          NerdyFrida|Isn't this the pl...|           null|          17-02-2020|                   1|    1|      (1, 5)|Nonmisogynistic|None_of_the_categ...|             null|                null|                null| test|\n",
            "|      fgdog3k|           t3_exoxn7|          t1_fgdmluh|1580684716|badwomensanatomy|           doggodone|No idea. I watche...|           null|          17-02-2020|                   1|    1|   (1, 5, 1)|Nonmisogynistic|None_of_the_categ...|             null|                null|                null|train|\n",
            "|      fgdqj28|           t3_exoxn7|          t1_fgdog3k|1580685515|badwomensanatomy|          NerdyFrida|In the movie ther...|           null|          17-02-2020|                   1|    1|(1, 5, 1, 1)|Nonmisogynistic|None_of_the_categ...|             null|                null|                null|train|\n",
            "|      fgdowdc|           t3_exoxn7|           t3_exoxn7|1580684907|badwomensanatomy|      Lengthofawhile|One of my friends...|           null|          17-02-2020|                   1|    1|      (1, 6)|Nonmisogynistic|None_of_the_categ...|             null|                null|                null|train|\n",
            "|      fgay2nh|           t3_exoxn7|           t3_exoxn7|1580656591|badwomensanatomy|    RecklessSkeleton|What kinda Tom Br...|           null|          17-02-2020|                   1|    1|      (1, 7)|Nonmisogynistic|None_of_the_categ...|             null|                null|                null|train|\n",
            "|      fgdy0kw|           t3_exoxn7|           t3_exoxn7|1580688242|badwomensanatomy|          TroxyGamer|  Recommended by F.F|           null|          17-02-2020|                   1|    1|      (1, 8)|Nonmisogynistic|None_of_the_categ...|             null|                null|                null|train|\n",
            "|      fgj8sxn|           t3_exoxn7|           t3_exoxn7|1580839237|badwomensanatomy|          Crockett62|Professionals say...|           null|          17-02-2020|                   1|    1|      (1, 9)|Nonmisogynistic|None_of_the_categ...|             null|                null|                null| test|\n",
            "|       exuuxj|           t3_exuuxj|                null|1580676217|badwomensanatomy|ThisAcc0untEmptyYeet|     Virgina Spread |            Yes|          17-02-2020|                   1|    1|        (2,)|Nonmisogynistic|None_of_the_categ...|             null|                null|                null|train|\n",
            "|      fgcul27|           t3_exuuxj|           t3_exuuxj|1580676360|badwomensanatomy|           brrod1717|*I can't believe ...|           null|          17-02-2020|                   1|    1|      (2, 1)|Nonmisogynistic|None_of_the_categ...|             null|                null|                null| test|\n",
            "+-------------+--------------------+--------------------+----------+----------------+--------------------+--------------------+---------------+--------------------+--------------------+-----+------------+---------------+--------------------+-----------------+--------------------+--------------------+-----+\n",
            "only showing top 20 rows\n",
            "\n"
          ]
        }
      ]
    },
    {
      "cell_type": "code",
      "source": [
        "dados=dados[['body','level_1']]\n",
        "dados.show()"
      ],
      "metadata": {
        "colab": {
          "base_uri": "https://localhost:8080/"
        },
        "id": "w8kcRLHcnzCb",
        "outputId": "6e54bcd8-6802-42d1-dafa-4a58db1ea7be"
      },
      "execution_count": null,
      "outputs": [
        {
          "output_type": "stream",
          "name": "stdout",
          "text": [
            "+--------------------+---------------+\n",
            "|                body|        level_1|\n",
            "+--------------------+---------------+\n",
            "|Do you have the s...|Nonmisogynistic|\n",
            "|This is taking a ...|           null|\n",
            "|                   1|           null|\n",
            "|Honestly my favor...|Nonmisogynistic|\n",
            "|Source? Doesnt so...|Nonmisogynistic|\n",
            "|Damn, I saw a mov...|   Misogynistic|\n",
            "|It's a question o...|           null|\n",
            "|           (1, 3, 1)|          train|\n",
            "|Some places have ...|Nonmisogynistic|\n",
            "|So if I drink eno...|Nonmisogynistic|\n",
            "|You'll Benjamin B...|Nonmisogynistic|\n",
            "|Isn't this the pl...|Nonmisogynistic|\n",
            "|No idea. I watche...|Nonmisogynistic|\n",
            "|In the movie ther...|Nonmisogynistic|\n",
            "|One of my friends...|Nonmisogynistic|\n",
            "|What kinda Tom Br...|Nonmisogynistic|\n",
            "|  Recommended by F.F|Nonmisogynistic|\n",
            "|Professionals say...|Nonmisogynistic|\n",
            "|     Virgina Spread |Nonmisogynistic|\n",
            "|*I can't believe ...|Nonmisogynistic|\n",
            "+--------------------+---------------+\n",
            "only showing top 20 rows\n",
            "\n"
          ]
        }
      ]
    },
    {
      "cell_type": "code",
      "source": [
        "print(f'N° de Linhas:{dados.count()}', f'N° de colunas:{len(dados.columns)}')"
      ],
      "metadata": {
        "colab": {
          "base_uri": "https://localhost:8080/"
        },
        "id": "qNnT87MMJQPD",
        "outputId": "97560c11-1053-4942-c7a7-f52ebb24585d"
      },
      "execution_count": null,
      "outputs": [
        {
          "output_type": "stream",
          "name": "stdout",
          "text": [
            "N° de Linhas:15189 N° de colunas:2\n"
          ]
        }
      ]
    },
    {
      "cell_type": "code",
      "source": [
        "dados.printSchema()"
      ],
      "metadata": {
        "colab": {
          "base_uri": "https://localhost:8080/"
        },
        "id": "A07KhLheJlU5",
        "outputId": "bc968db4-15c8-4e30-b5ae-dc8c436c60d8"
      },
      "execution_count": null,
      "outputs": [
        {
          "output_type": "stream",
          "name": "stdout",
          "text": [
            "root\n",
            " |-- body: string (nullable = true)\n",
            " |-- level_1: string (nullable = true)\n",
            "\n"
          ]
        }
      ]
    },
    {
      "cell_type": "code",
      "source": [
        "print(\"Negativo\")\n",
        "dados.filter(dados.level_1 == \"Nonmisogynistic\").select(\"body\", \"level_1\").show(truncate = False)\n",
        "print(\"Positivo\")\n",
        "dados.filter(dados.level_1 == \"Misogynistic\").select(\"body\", \"level_1\").show(truncate = False)"
      ],
      "metadata": {
        "colab": {
          "base_uri": "https://localhost:8080/"
        },
        "id": "wLW1ZrbKJyHB",
        "outputId": "02a5c703-31e0-41db-88dd-62cc74577124"
      },
      "execution_count": null,
      "outputs": [
        {
          "output_type": "stream",
          "name": "stdout",
          "text": [
            "Negativo\n",
            "+-------------------------------------------------------------------------------------------------------------------------------------------------------------------------------------------------------------+---------------+\n",
            "|body                                                                                                                                                                                                         |level_1        |\n",
            "+-------------------------------------------------------------------------------------------------------------------------------------------------------------------------------------------------------------+---------------+\n",
            "|Do you have the skin of a 80 year old grandma? Worry no more, just drink water!                                                                                                                              |Nonmisogynistic|\n",
            "|Honestly my favorite thing about this is that they feel the need to cite beauty professionals in order to prove that dehydration is caused by not drinking enough water.                                     |Nonmisogynistic|\n",
            "|Source? Doesnt sound right to me idk                                                                                                                                                                         |Nonmisogynistic|\n",
            "|Some places have poor water quality. Virgin blood may have been less expensive than imported water.                                                                                                          |Nonmisogynistic|\n",
            "|So if I drink enough water I turn into a baby?                                                                                                                                                               |Nonmisogynistic|\n",
            "|You'll Benjamin Button yourself, yes.                                                                                                                                                                        |Nonmisogynistic|\n",
            "|Isn't this the plot of Cocoon?                                                                                                                                                                               |Nonmisogynistic|\n",
            "|No idea. I watched the movie 10 years or so ago with my dad and all I can remember are the doctors being shocked that the lady was pregnant                                                                  |Nonmisogynistic|\n",
            "|In the movie there is this group of elderly that discover that they feel suspiciously rejuvenated by going for a bath in a special swimming pool. I was just being silly with the water/de-aging association.|Nonmisogynistic|\n",
            "|One of my friends looks like he's frikkin dead. Been trying for years to pour water down his throat and get him to wash his face. Recently won the face washing battle and he looks 5 years younger.         |Nonmisogynistic|\n",
            "|What kinda Tom Brady nonsense is this                                                                                                                                                                        |Nonmisogynistic|\n",
            "|Recommended by F.F                                                                                                                                                                                           |Nonmisogynistic|\n",
            "|Professionals say, that dehydration is caused by not drinking enough water. In other news, water is wet, and oranges are orange.                                                                             |Nonmisogynistic|\n",
            "|Virgina Spread                                                                                                                                                                                               |Nonmisogynistic|\n",
            "|*I can't believe it's not* virgina spread open                                                                                                                                                               |Nonmisogynistic|\n",
            "|I hate you because its the middle of the night and Im silently suffering from laughter but your updoot                                                                                                       |Nonmisogynistic|\n",
            "|Even if you chug a handle of bad vodka and give this person the benefit of the doubt, what?                                                                                                                  |Nonmisogynistic|\n",
            "|I'll need *way* more than vodka to make sense of this shit                                                                                                                                                   |Nonmisogynistic|\n",
            "|I think I have a couple more handles in the garage but they're warm, that okay?                                                                                                                              |Nonmisogynistic|\n",
            "|Well now the secrets out                                                                                                                                                                                     |Nonmisogynistic|\n",
            "+-------------------------------------------------------------------------------------------------------------------------------------------------------------------------------------------------------------+---------------+\n",
            "only showing top 20 rows\n",
            "\n",
            "Positivo\n",
            "+--------------------------------------------------------------------------------------------------------------------------------------------------------------------------------------------------------------------------------------------------------------------------------------------------------------------------------------------------------+------------+\n",
            "|body                                                                                                                                                                                                                                                                                                                                                    |level_1     |\n",
            "+--------------------------------------------------------------------------------------------------------------------------------------------------------------------------------------------------------------------------------------------------------------------------------------------------------------------------------------------------------+------------+\n",
            "|Damn, I saw a movie in which the old woman bathed in the blood if virgins  to do this.  How did no one tell her she just needed some water.                                                                                                                                                                                                             |Misogynistic|\n",
            "|There's no way he would want to have sex with those ugly ghetto whores.One of them claimed her assailant was a short black man which Holtzclaw obviously isn't.The only DNA was from convicted criminal Adaira Gardner who told her mom she wanted to go out with Holtzclaw because he was a \"hot cop.\" The case is a fucking fraud.                    |Misogynistic|\n",
            "|There's no way he would want to have sex with those ugly ghetto whores.One of them claimed her assailant was a short black man which Holtzclaw obviously isn't.The only DNA was from convicted criminal Adaira Gardner who told her mom she wanted to go out with Holtzclaw because he was a \"hot cop.\" The case is a fucking fraud.                    |Misogynistic|\n",
            "|If I knew how to I would open my own subreddit called... Men boycotting woke women. Just to see how they respond to that!!!                                                                                                                                                                                                                             |Misogynistic|\n",
            "|Lol I can tell your just a mad women who thinks she is entitled to marriage. Awwww has someone past their prime and now regretting the cock carousel ride they took .                                                                                                                                                                                   |Misogynistic|\n",
            "|You mean women marry and divorce for financial gain??? Never! /s                                                                                                                                                                                                                                                                                        |Misogynistic|\n",
            "|HAHAHAHAHAHAHAHAHAHAHAHA stupid cunt                                                                                                                                                                                                                                                                                                                    |Misogynistic|\n",
            "|They want our money and peace of mind. I say, come and get it!                                                                                                                                                                                                                                                                                          |Misogynistic|\n",
            "|Idk any woman who was sexually assaulted, but I do know a couple of men who were victims of false accusations. People need to stop believing what theyre told & believe their own eyes.                                                                                                                                                                 |Misogynistic|\n",
            "|I literally have to videotape every moment I spend with my daughter because of all of the insane false accusations my ex continues to make against me. In Family Court, I am guilty until proven innocent, and I have spent a fortune in court trying to clear my name with video evidence. Do not get married, have kids, or spend time around women!!!|Misogynistic|\n",
            "|If a woman punches herself before lying to the police youre actually better off killing her before she reaches the phone. The first case youre 100% fucked while the second you have a chance to get away with it AND She receives a punishment regardless of whether you do.                                                                           |Misogynistic|\n",
            "|And why's that? Your comment strikes me as very integrated feminist TBH. As all fascism movements exclusion is one of their main drives. Care to elaborate?                                                                                                                                                                                             |Misogynistic|\n",
            "|fucking cunts. that's why tv is dead                                                                                                                                                                                                                                                                                                                    |Misogynistic|\n",
            "|Then, they display the exact opposite of even *those*. Showing the kind of hatred and bigotry they project onto everyone else around them.                                                                                                                                                                                                              |Misogynistic|\n",
            "|Isn't this what they wanted ? To kill \"traditional gender roles\" or it doesn't work like that when they need to move their asses and do actual work ?                                                                                                                                                                                                   |Misogynistic|\n",
            "|There aren't many things that are more satisfying than telling a girl, \"No.\"                                                                                                                                                                                                                                                                            |Misogynistic|\n",
            "|It's funny to see the hamster that starts to act up in their little widdle tiny brains after saying that too.                                                                                                                                                                                                                                           |Misogynistic|\n",
            "|Let them cry \"where have all the good men gone!?\" Fucking dumb whores!                                                                                                                                                                                                                                                                                  |Misogynistic|\n",
            "|More often than not truth isn't coming out or does way too late. This guy already got social repercussions for something he didn't. The same way Johny Depp was. If a woman says that someone assaulted her, then people would be like \"believe the victim!!\" and just side with her even without any evidence supporting her claims.                   |Misogynistic|\n",
            "|Gold diggers gotta dig...                                                                                                                                                                                                                                                                                                                               |Misogynistic|\n",
            "+--------------------------------------------------------------------------------------------------------------------------------------------------------------------------------------------------------------------------------------------------------------------------------------------------------------------------------------------------------+------------+\n",
            "only showing top 20 rows\n",
            "\n"
          ]
        }
      ]
    },
    {
      "cell_type": "markdown",
      "source": [
        "Limpeza dos dados nulos"
      ],
      "metadata": {
        "id": "kgqN3YNqyDpO"
      }
    },
    {
      "cell_type": "code",
      "source": [
        "dados = dados.dropna(subset=\"body\")\n",
        "dados.show()"
      ],
      "metadata": {
        "colab": {
          "base_uri": "https://localhost:8080/"
        },
        "id": "NpizaJv2khI9",
        "outputId": "36177bfb-1db7-4b8a-928f-f30cd0ef4fe3"
      },
      "execution_count": null,
      "outputs": [
        {
          "output_type": "stream",
          "name": "stdout",
          "text": [
            "+--------------------+---------------+\n",
            "|                body|        level_1|\n",
            "+--------------------+---------------+\n",
            "|Do you have the s...|Nonmisogynistic|\n",
            "|This is taking a ...|           null|\n",
            "|                   1|           null|\n",
            "|Honestly my favor...|Nonmisogynistic|\n",
            "|Source? Doesnt so...|Nonmisogynistic|\n",
            "|Damn, I saw a mov...|   Misogynistic|\n",
            "|It's a question o...|           null|\n",
            "|           (1, 3, 1)|          train|\n",
            "|Some places have ...|Nonmisogynistic|\n",
            "|So if I drink eno...|Nonmisogynistic|\n",
            "|You'll Benjamin B...|Nonmisogynistic|\n",
            "|Isn't this the pl...|Nonmisogynistic|\n",
            "|No idea. I watche...|Nonmisogynistic|\n",
            "|In the movie ther...|Nonmisogynistic|\n",
            "|One of my friends...|Nonmisogynistic|\n",
            "|What kinda Tom Br...|Nonmisogynistic|\n",
            "|  Recommended by F.F|Nonmisogynistic|\n",
            "|Professionals say...|Nonmisogynistic|\n",
            "|     Virgina Spread |Nonmisogynistic|\n",
            "|*I can't believe ...|Nonmisogynistic|\n",
            "+--------------------+---------------+\n",
            "only showing top 20 rows\n",
            "\n"
          ]
        }
      ]
    },
    {
      "cell_type": "code",
      "source": [
        "print(f'N° de Linhas:{dados.count()}', f'N° de colunas:{len(dados.columns)}')"
      ],
      "metadata": {
        "colab": {
          "base_uri": "https://localhost:8080/"
        },
        "id": "khyvan7T2xUC",
        "outputId": "d16b3725-d0ef-4f8a-b3e8-c721e7baec43"
      },
      "execution_count": null,
      "outputs": [
        {
          "output_type": "stream",
          "name": "stdout",
          "text": [
            "N° de Linhas:9005 N° de colunas:2\n"
          ]
        }
      ]
    },
    {
      "cell_type": "code",
      "source": [
        "dados = dados.dropna(subset=\"level_1\")\n",
        "dados.show()"
      ],
      "metadata": {
        "colab": {
          "base_uri": "https://localhost:8080/"
        },
        "id": "EsxENQzaRvHH",
        "outputId": "55fd42bd-f02c-4639-9059-921d5dbeec6e"
      },
      "execution_count": null,
      "outputs": [
        {
          "output_type": "stream",
          "name": "stdout",
          "text": [
            "+--------------------+---------------+\n",
            "|                body|        level_1|\n",
            "+--------------------+---------------+\n",
            "|Do you have the s...|Nonmisogynistic|\n",
            "|Honestly my favor...|Nonmisogynistic|\n",
            "|Source? Doesnt so...|Nonmisogynistic|\n",
            "|Damn, I saw a mov...|   Misogynistic|\n",
            "|           (1, 3, 1)|          train|\n",
            "|Some places have ...|Nonmisogynistic|\n",
            "|So if I drink eno...|Nonmisogynistic|\n",
            "|You'll Benjamin B...|Nonmisogynistic|\n",
            "|Isn't this the pl...|Nonmisogynistic|\n",
            "|No idea. I watche...|Nonmisogynistic|\n",
            "|In the movie ther...|Nonmisogynistic|\n",
            "|One of my friends...|Nonmisogynistic|\n",
            "|What kinda Tom Br...|Nonmisogynistic|\n",
            "|  Recommended by F.F|Nonmisogynistic|\n",
            "|Professionals say...|Nonmisogynistic|\n",
            "|     Virgina Spread |Nonmisogynistic|\n",
            "|*I can't believe ...|Nonmisogynistic|\n",
            "|I hate you becaus...|Nonmisogynistic|\n",
            "|Even if you chug ...|Nonmisogynistic|\n",
            "|I'll need *way* m...|Nonmisogynistic|\n",
            "+--------------------+---------------+\n",
            "only showing top 20 rows\n",
            "\n"
          ]
        }
      ]
    },
    {
      "cell_type": "code",
      "source": [
        "print(f'N° de Linhas:{dados.count()}', f'N° de colunas:{len(dados.columns)}')"
      ],
      "metadata": {
        "colab": {
          "base_uri": "https://localhost:8080/"
        },
        "id": "XoBsDLYq2zSZ",
        "outputId": "7ffe5f22-c3e1-434c-9752-7765cac445ec"
      },
      "execution_count": null,
      "outputs": [
        {
          "output_type": "stream",
          "name": "stdout",
          "text": [
            "N° de Linhas:5226 N° de colunas:2\n"
          ]
        }
      ]
    },
    {
      "cell_type": "markdown",
      "source": [
        "Verificar como limpa uma coluna com dados específicos, para a coluna Body quando existir o número '1' e para a coluna level_1 quando existir a palavra 'train'"
      ],
      "metadata": {
        "id": "YOQTjKbaxu6l"
      }
    },
    {
      "cell_type": "code",
      "source": [
        "dados = dados.filter(dados.body != \"1\").select(\"body\", \"level_1\")\n",
        "dados.show(truncate = False)"
      ],
      "metadata": {
        "colab": {
          "base_uri": "https://localhost:8080/"
        },
        "id": "CXJnccLNLRd0",
        "outputId": "1c5b0492-6970-4ab2-f1e4-a9077d76d0ab"
      },
      "execution_count": null,
      "outputs": [
        {
          "output_type": "stream",
          "name": "stdout",
          "text": [
            "+-------------------------------------------------------------------------------------------------------------------------------------------------------------------------------------------------------------+---------------+\n",
            "|body                                                                                                                                                                                                         |level_1        |\n",
            "+-------------------------------------------------------------------------------------------------------------------------------------------------------------------------------------------------------------+---------------+\n",
            "|Do you have the skin of a 80 year old grandma? Worry no more, just drink water!                                                                                                                              |Nonmisogynistic|\n",
            "|Honestly my favorite thing about this is that they feel the need to cite beauty professionals in order to prove that dehydration is caused by not drinking enough water.                                     |Nonmisogynistic|\n",
            "|Source? Doesnt sound right to me idk                                                                                                                                                                         |Nonmisogynistic|\n",
            "|Damn, I saw a movie in which the old woman bathed in the blood if virgins  to do this.  How did no one tell her she just needed some water.                                                                  |Misogynistic   |\n",
            "|(1, 3, 1)                                                                                                                                                                                                    |train          |\n",
            "|Some places have poor water quality. Virgin blood may have been less expensive than imported water.                                                                                                          |Nonmisogynistic|\n",
            "|So if I drink enough water I turn into a baby?                                                                                                                                                               |Nonmisogynistic|\n",
            "|You'll Benjamin Button yourself, yes.                                                                                                                                                                        |Nonmisogynistic|\n",
            "|Isn't this the plot of Cocoon?                                                                                                                                                                               |Nonmisogynistic|\n",
            "|No idea. I watched the movie 10 years or so ago with my dad and all I can remember are the doctors being shocked that the lady was pregnant                                                                  |Nonmisogynistic|\n",
            "|In the movie there is this group of elderly that discover that they feel suspiciously rejuvenated by going for a bath in a special swimming pool. I was just being silly with the water/de-aging association.|Nonmisogynistic|\n",
            "|One of my friends looks like he's frikkin dead. Been trying for years to pour water down his throat and get him to wash his face. Recently won the face washing battle and he looks 5 years younger.         |Nonmisogynistic|\n",
            "|What kinda Tom Brady nonsense is this                                                                                                                                                                        |Nonmisogynistic|\n",
            "|Recommended by F.F                                                                                                                                                                                           |Nonmisogynistic|\n",
            "|Professionals say, that dehydration is caused by not drinking enough water. In other news, water is wet, and oranges are orange.                                                                             |Nonmisogynistic|\n",
            "|Virgina Spread                                                                                                                                                                                               |Nonmisogynistic|\n",
            "|*I can't believe it's not* virgina spread open                                                                                                                                                               |Nonmisogynistic|\n",
            "|I hate you because its the middle of the night and Im silently suffering from laughter but your updoot                                                                                                       |Nonmisogynistic|\n",
            "|Even if you chug a handle of bad vodka and give this person the benefit of the doubt, what?                                                                                                                  |Nonmisogynistic|\n",
            "|I'll need *way* more than vodka to make sense of this shit                                                                                                                                                   |Nonmisogynistic|\n",
            "+-------------------------------------------------------------------------------------------------------------------------------------------------------------------------------------------------------------+---------------+\n",
            "only showing top 20 rows\n",
            "\n"
          ]
        }
      ]
    },
    {
      "cell_type": "code",
      "source": [
        "dados = dados.filter(dados.level_1 != \"train\").select(\"body\", \"level_1\")\n",
        "dados.show(truncate = False)"
      ],
      "metadata": {
        "colab": {
          "base_uri": "https://localhost:8080/"
        },
        "id": "6xP54ly9iKwX",
        "outputId": "f4e723fe-2073-4683-9665-4dce25130034"
      },
      "execution_count": null,
      "outputs": [
        {
          "output_type": "stream",
          "name": "stdout",
          "text": [
            "+-------------------------------------------------------------------------------------------------------------------------------------------------------------------------------------------------------------+---------------+\n",
            "|body                                                                                                                                                                                                         |level_1        |\n",
            "+-------------------------------------------------------------------------------------------------------------------------------------------------------------------------------------------------------------+---------------+\n",
            "|Do you have the skin of a 80 year old grandma? Worry no more, just drink water!                                                                                                                              |Nonmisogynistic|\n",
            "|Honestly my favorite thing about this is that they feel the need to cite beauty professionals in order to prove that dehydration is caused by not drinking enough water.                                     |Nonmisogynistic|\n",
            "|Source? Doesnt sound right to me idk                                                                                                                                                                         |Nonmisogynistic|\n",
            "|Damn, I saw a movie in which the old woman bathed in the blood if virgins  to do this.  How did no one tell her she just needed some water.                                                                  |Misogynistic   |\n",
            "|Some places have poor water quality. Virgin blood may have been less expensive than imported water.                                                                                                          |Nonmisogynistic|\n",
            "|So if I drink enough water I turn into a baby?                                                                                                                                                               |Nonmisogynistic|\n",
            "|You'll Benjamin Button yourself, yes.                                                                                                                                                                        |Nonmisogynistic|\n",
            "|Isn't this the plot of Cocoon?                                                                                                                                                                               |Nonmisogynistic|\n",
            "|No idea. I watched the movie 10 years or so ago with my dad and all I can remember are the doctors being shocked that the lady was pregnant                                                                  |Nonmisogynistic|\n",
            "|In the movie there is this group of elderly that discover that they feel suspiciously rejuvenated by going for a bath in a special swimming pool. I was just being silly with the water/de-aging association.|Nonmisogynistic|\n",
            "|One of my friends looks like he's frikkin dead. Been trying for years to pour water down his throat and get him to wash his face. Recently won the face washing battle and he looks 5 years younger.         |Nonmisogynistic|\n",
            "|What kinda Tom Brady nonsense is this                                                                                                                                                                        |Nonmisogynistic|\n",
            "|Recommended by F.F                                                                                                                                                                                           |Nonmisogynistic|\n",
            "|Professionals say, that dehydration is caused by not drinking enough water. In other news, water is wet, and oranges are orange.                                                                             |Nonmisogynistic|\n",
            "|Virgina Spread                                                                                                                                                                                               |Nonmisogynistic|\n",
            "|*I can't believe it's not* virgina spread open                                                                                                                                                               |Nonmisogynistic|\n",
            "|I hate you because its the middle of the night and Im silently suffering from laughter but your updoot                                                                                                       |Nonmisogynistic|\n",
            "|Even if you chug a handle of bad vodka and give this person the benefit of the doubt, what?                                                                                                                  |Nonmisogynistic|\n",
            "|I'll need *way* more than vodka to make sense of this shit                                                                                                                                                   |Nonmisogynistic|\n",
            "|I think I have a couple more handles in the garage but they're warm, that okay?                                                                                                                              |Nonmisogynistic|\n",
            "+-------------------------------------------------------------------------------------------------------------------------------------------------------------------------------------------------------------+---------------+\n",
            "only showing top 20 rows\n",
            "\n"
          ]
        }
      ]
    },
    {
      "cell_type": "code",
      "source": [
        "print(f'N° de Linhas:{dados.count()}', f'N° de colunas:{len(dados.columns)}')"
      ],
      "metadata": {
        "colab": {
          "base_uri": "https://localhost:8080/"
        },
        "id": "BXeJV0gAb6IB",
        "outputId": "caa7e367-2ad5-476f-c547-5fc3d18f57aa"
      },
      "execution_count": null,
      "outputs": [
        {
          "output_type": "stream",
          "name": "stdout",
          "text": [
            "N° de Linhas:4783 N° de colunas:2\n"
          ]
        }
      ]
    },
    {
      "cell_type": "code",
      "source": [
        "dados.filter(dados.level_1 == \"Nonmisogynistic\").select(\"body\", \"level_1\").groupBy('level_1').count().show(truncate = False)\n",
        "dados.filter(dados.level_1 == \"Misogynistic\").select(\"body\", \"level_1\").groupBy('level_1').count().show(truncate = False)"
      ],
      "metadata": {
        "colab": {
          "base_uri": "https://localhost:8080/"
        },
        "id": "WIYld2mOM2qn",
        "outputId": "cc37284e-0abf-4a5a-ae0a-f64a99317c0e"
      },
      "execution_count": null,
      "outputs": [
        {
          "output_type": "stream",
          "name": "stdout",
          "text": [
            "+---------------+-----+\n",
            "|level_1        |count|\n",
            "+---------------+-----+\n",
            "|Nonmisogynistic|4246 |\n",
            "+---------------+-----+\n",
            "\n",
            "+------------+-----+\n",
            "|level_1     |count|\n",
            "+------------+-----+\n",
            "|Misogynistic|317  |\n",
            "+------------+-----+\n",
            "\n"
          ]
        }
      ]
    },
    {
      "cell_type": "markdown",
      "source": [
        "Criação de uma coluna índice (index)"
      ],
      "metadata": {
        "id": "KZqM3mkgyIh2"
      }
    },
    {
      "cell_type": "code",
      "source": [
        "from pyspark.sql import SparkSession, functions as F\n",
        "from pyspark import SparkConf\n",
        "conf = SparkConf()\n",
        "\n",
        "spark = SparkSession.builder.config(conf=conf).appName('Dataframe with Indexes').getOrCreate()\n",
        "\n",
        "\n",
        "df = dados\n",
        "\n",
        "rdd_df = df.rdd.zipWithIndex()\n",
        "df_final = rdd_df.toDF()\n",
        "\n",
        "df_final = df_final.withColumn('body', df_final['_1'].getItem(\"body\"))\n",
        "df_final = df_final.withColumn('level_1', df_final['_1'].getItem(\"level_1\"))"
      ],
      "metadata": {
        "id": "3yDXWiWZC7oo"
      },
      "execution_count": null,
      "outputs": []
    },
    {
      "cell_type": "code",
      "source": [
        "df_final = df_final.withColumnRenamed(\"_2\",\"index\")"
      ],
      "metadata": {
        "id": "oZDbDmXMHbKF"
      },
      "execution_count": null,
      "outputs": []
    },
    {
      "cell_type": "code",
      "source": [
        "dados=df_final[['index','body','level_1']]\n",
        "dados.show()"
      ],
      "metadata": {
        "colab": {
          "base_uri": "https://localhost:8080/"
        },
        "id": "U-3Dc_oZIAec",
        "outputId": "1ccbc0e8-40b2-48b5-a9a7-1b2cfff75578"
      },
      "execution_count": null,
      "outputs": [
        {
          "output_type": "stream",
          "name": "stdout",
          "text": [
            "+-----+--------------------+---------------+\n",
            "|index|                body|        level_1|\n",
            "+-----+--------------------+---------------+\n",
            "|    0|Do you have the s...|Nonmisogynistic|\n",
            "|    1|Honestly my favor...|Nonmisogynistic|\n",
            "|    2|Source? Doesnt so...|Nonmisogynistic|\n",
            "|    3|Damn, I saw a mov...|   Misogynistic|\n",
            "|    4|Some places have ...|Nonmisogynistic|\n",
            "|    5|So if I drink eno...|Nonmisogynistic|\n",
            "|    6|You'll Benjamin B...|Nonmisogynistic|\n",
            "|    7|Isn't this the pl...|Nonmisogynistic|\n",
            "|    8|No idea. I watche...|Nonmisogynistic|\n",
            "|    9|In the movie ther...|Nonmisogynistic|\n",
            "|   10|One of my friends...|Nonmisogynistic|\n",
            "|   11|What kinda Tom Br...|Nonmisogynistic|\n",
            "|   12|  Recommended by F.F|Nonmisogynistic|\n",
            "|   13|Professionals say...|Nonmisogynistic|\n",
            "|   14|     Virgina Spread |Nonmisogynistic|\n",
            "|   15|*I can't believe ...|Nonmisogynistic|\n",
            "|   16|I hate you becaus...|Nonmisogynistic|\n",
            "|   17|Even if you chug ...|Nonmisogynistic|\n",
            "|   18|I'll need *way* m...|Nonmisogynistic|\n",
            "|   19|I think I have a ...|Nonmisogynistic|\n",
            "+-----+--------------------+---------------+\n",
            "only showing top 20 rows\n",
            "\n"
          ]
        }
      ]
    },
    {
      "cell_type": "markdown",
      "source": [
        "Tentativas de groupBy"
      ],
      "metadata": {
        "id": "-7W-6d3aySUc"
      }
    },
    {
      "cell_type": "code",
      "source": [
        "dados\\\n",
        "    .select('level_1')\\\n",
        "    .groupBy('level_1')\\\n",
        "    .count()\\\n",
        "    .show()"
      ],
      "metadata": {
        "colab": {
          "base_uri": "https://localhost:8080/"
        },
        "id": "72KBqN8HJ-E8",
        "outputId": "878a1019-0b68-41fe-c20c-a69d44795a18"
      },
      "execution_count": null,
      "outputs": [
        {
          "output_type": "stream",
          "name": "stdout",
          "text": [
            "+--------------------+-----+\n",
            "|             level_1|count|\n",
            "+--------------------+-----+\n",
            "| which they would...|    1|\n",
            "| feel BIGGER than...|    1|\n",
            "|           (5, 2, 1)|    1|\n",
            "|             (27, 3)|    1|\n",
            "|                   8|    1|\n",
            "|My primary slave ...|    1|\n",
            "| BLS and some of ...|    1|\n",
            "|Sexual_or_physica...|    3|\n",
            "| I KNEW that I wa...|    1|\n",
            "| you'll be abused...|    1|\n",
            "|So of course she ...|    1|\n",
            "|           Hypergamy|    1|\n",
            "|               Stacy|    1|\n",
            "| instilling certa...|    1|\n",
            "| thin with a bit ...|    5|\n",
            "|I have even had g...|    1|\n",
            "| I didn't take my...|    1|\n",
            "|               sluts|    2|\n",
            "|Luckily, feminist...|    1|\n",
            "|           (3, 1, 1)|    1|\n",
            "+--------------------+-----+\n",
            "only showing top 20 rows\n",
            "\n"
          ]
        }
      ]
    },
    {
      "cell_type": "code",
      "source": [
        "dados.groupBy('level_1').count().show()"
      ],
      "metadata": {
        "colab": {
          "base_uri": "https://localhost:8080/"
        },
        "id": "6fqEQ49FvbBx",
        "outputId": "9d866494-f9b0-4874-9655-6f9f09a54bb4"
      },
      "execution_count": null,
      "outputs": [
        {
          "output_type": "stream",
          "name": "stdout",
          "text": [
            "+--------------------+-----+\n",
            "|             level_1|count|\n",
            "+--------------------+-----+\n",
            "| which they would...|    1|\n",
            "| feel BIGGER than...|    1|\n",
            "|           (5, 2, 1)|    1|\n",
            "|             (27, 3)|    1|\n",
            "|                   8|    1|\n",
            "|My primary slave ...|    1|\n",
            "| BLS and some of ...|    1|\n",
            "|Sexual_or_physica...|    3|\n",
            "| I KNEW that I wa...|    1|\n",
            "| you'll be abused...|    1|\n",
            "|So of course she ...|    1|\n",
            "|           Hypergamy|    1|\n",
            "|               Stacy|    1|\n",
            "| instilling certa...|    1|\n",
            "| thin with a bit ...|    5|\n",
            "|I have even had g...|    1|\n",
            "| I didn't take my...|    1|\n",
            "|               sluts|    2|\n",
            "|Luckily, feminist...|    1|\n",
            "|           (3, 1, 1)|    1|\n",
            "+--------------------+-----+\n",
            "only showing top 20 rows\n",
            "\n"
          ]
        }
      ]
    },
    {
      "cell_type": "markdown",
      "source": [
        "Fim das tentativas"
      ],
      "metadata": {
        "id": "I9LidUHVyV08"
      }
    },
    {
      "cell_type": "code",
      "source": [
        "dados.limit(10).show()"
      ],
      "metadata": {
        "colab": {
          "base_uri": "https://localhost:8080/"
        },
        "id": "PvAfyGuROa6v",
        "outputId": "6b2ddaab-4580-4344-ab8e-193edb00fb8c"
      },
      "execution_count": null,
      "outputs": [
        {
          "output_type": "stream",
          "name": "stdout",
          "text": [
            "+-----+--------------------+---------------+\n",
            "|index|                body|        level_1|\n",
            "+-----+--------------------+---------------+\n",
            "|    0|Do you have the s...|Nonmisogynistic|\n",
            "|    1|Honestly my favor...|Nonmisogynistic|\n",
            "|    2|Source? Doesnt so...|Nonmisogynistic|\n",
            "|    3|Damn, I saw a mov...|   Misogynistic|\n",
            "|    4|Some places have ...|Nonmisogynistic|\n",
            "|    5|So if I drink eno...|Nonmisogynistic|\n",
            "|    6|You'll Benjamin B...|Nonmisogynistic|\n",
            "|    7|Isn't this the pl...|Nonmisogynistic|\n",
            "|    8|No idea. I watche...|Nonmisogynistic|\n",
            "|    9|In the movie ther...|Nonmisogynistic|\n",
            "+-----+--------------------+---------------+\n",
            "\n"
          ]
        }
      ]
    },
    {
      "cell_type": "markdown",
      "source": [
        "Criação da nuvem de palavras"
      ],
      "metadata": {
        "id": "PlJpXTp0ybKU"
      }
    },
    {
      "cell_type": "code",
      "source": [
        "from wordcloud import WordCloud\n",
        "import matplotlib.pyplot as plt"
      ],
      "metadata": {
        "id": "zo3ISxo2bCcR"
      },
      "execution_count": null,
      "outputs": []
    },
    {
      "cell_type": "code",
      "source": [
        "amostra = dados.select('body').sample(fraction = 0.1, seed = 101)\n",
        "tudo = [texto['body'] for texto in amostra.collect()]"
      ],
      "metadata": {
        "id": "2UR5N6hJOmQ-"
      },
      "execution_count": null,
      "outputs": []
    },
    {
      "cell_type": "code",
      "source": [
        "wordcloud = WordCloud(background_color = 'white',\n",
        "                      width = 1000,\n",
        "                      height = 600,\n",
        "                      collocations = False, \n",
        "                      prefer_horizontal = 1).generate(str(tudo))"
      ],
      "metadata": {
        "id": "xNk4yT8Qai3Z"
      },
      "execution_count": null,
      "outputs": []
    },
    {
      "cell_type": "code",
      "source": [
        "plt.figure(figsize=(20,8))\n",
        "plt.imshow(wordcloud)\n",
        "plt.axis(\"off\")\n",
        "plt.show()"
      ],
      "metadata": {
        "colab": {
          "base_uri": "https://localhost:8080/",
          "height": 466
        },
        "id": "SRLXW3M2bhwJ",
        "outputId": "78d207fc-24d9-4891-b1b5-9b004be3de2d"
      },
      "execution_count": null,
      "outputs": [
        {
          "output_type": "display_data",
          "data": {
            "text/plain": [
              "<Figure size 1440x576 with 1 Axes>"
            ],
            "image/png": "[encoded data removed]"
          },
          "metadata": {
            "needs_background": "light"
          }
        }
      ]
    },
    {
      "cell_type": "markdown",
      "source": [
        "Limpeza dos caracteres especiais"
      ],
      "metadata": {
        "id": "NH32l78jygps"
      }
    },
    {
      "cell_type": "code",
      "source": [
        "import string\n",
        "string.punctuation"
      ],
      "metadata": {
        "colab": {
          "base_uri": "https://localhost:8080/",
          "height": 35
        },
        "id": "eDqFxHhcbo0w",
        "outputId": "af26cdc5-8997-4bfd-b1f3-cd28c667b89d"
      },
      "execution_count": null,
      "outputs": [
        {
          "output_type": "execute_result",
          "data": {
            "text/plain": [
              "'!\"#$%&\\'()*+,-./:;<=>?@[\\\\]^_`{|}~'"
            ],
            "application/vnd.google.colaboratory.intrinsic+json": {
              "type": "string"
            }
          },
          "metadata": {},
          "execution_count": 31
        }
      ]
    },
    {
      "cell_type": "code",
      "source": [
        "import pyspark.sql.functions as f"
      ],
      "metadata": {
        "id": "hNRqWzJXb7aQ"
      },
      "execution_count": null,
      "outputs": []
    },
    {
      "cell_type": "code",
      "source": [
        "dados = dados.withColumn(\"texto_regex\", f.regexp_replace(\"body\", \"[\\$#,\\\"!%&'()*+-./:;<=>?@^_`´{|}~\\\\\\\\]\", \"\"))"
      ],
      "metadata": {
        "id": "TFv0YZpobxvp"
      },
      "execution_count": null,
      "outputs": []
    },
    {
      "cell_type": "code",
      "source": [
        "dados.limit(5).show(truncate=False)"
      ],
      "metadata": {
        "colab": {
          "base_uri": "https://localhost:8080/"
        },
        "id": "PsINgsh9b-ye",
        "outputId": "60c91a74-1d83-46ef-afd3-3a8dbe47a39e"
      },
      "execution_count": null,
      "outputs": [
        {
          "output_type": "stream",
          "name": "stdout",
          "text": [
            "+-----+------------------------------------------------------------------------------------------------------------------------------------------------------------------------+---------------+-----------------------------------------------------------------------------------------------------------------------------------------------------------------------+\n",
            "|index|body                                                                                                                                                                    |level_1        |texto_regex                                                                                                                                                            |\n",
            "+-----+------------------------------------------------------------------------------------------------------------------------------------------------------------------------+---------------+-----------------------------------------------------------------------------------------------------------------------------------------------------------------------+\n",
            "|0    |Do you have the skin of a 80 year old grandma? Worry no more, just drink water!                                                                                         |Nonmisogynistic|Do you have the skin of a 80 year old grandma Worry no more just drink water                                                                                           |\n",
            "|1    |Honestly my favorite thing about this is that they feel the need to cite beauty professionals in order to prove that dehydration is caused by not drinking enough water.|Nonmisogynistic|Honestly my favorite thing about this is that they feel the need to cite beauty professionals in order to prove that dehydration is caused by not drinking enough water|\n",
            "|2    |Source? Doesnt sound right to me idk                                                                                                                                    |Nonmisogynistic|Source Doesnt sound right to me idk                                                                                                                                    |\n",
            "|3    |Damn, I saw a movie in which the old woman bathed in the blood if virgins  to do this.  How did no one tell her she just needed some water.                             |Misogynistic   |Damn I saw a movie in which the old woman bathed in the blood if virgins  to do this  How did no one tell her she just needed some water                               |\n",
            "|4    |Some places have poor water quality. Virgin blood may have been less expensive than imported water.                                                                     |Nonmisogynistic|Some places have poor water quality Virgin blood may have been less expensive than imported water                                                                      |\n",
            "+-----+------------------------------------------------------------------------------------------------------------------------------------------------------------------------+---------------+-----------------------------------------------------------------------------------------------------------------------------------------------------------------------+\n",
            "\n"
          ]
        }
      ]
    },
    {
      "cell_type": "code",
      "source": [
        "dados = dados.withColumn(\"texto_limpo\", f.trim(dados.texto_regex) )"
      ],
      "metadata": {
        "id": "DDXcwIKkcCqW"
      },
      "execution_count": null,
      "outputs": []
    },
    {
      "cell_type": "code",
      "source": [
        "dados.limit(2).show()"
      ],
      "metadata": {
        "colab": {
          "base_uri": "https://localhost:8080/"
        },
        "id": "bBo47WkGcIvY",
        "outputId": "e27f3112-1c66-4358-a81f-5c63b5a7a9f1"
      },
      "execution_count": null,
      "outputs": [
        {
          "output_type": "stream",
          "name": "stdout",
          "text": [
            "+-----+--------------------+---------------+--------------------+--------------------+\n",
            "|index|                body|        level_1|         texto_regex|         texto_limpo|\n",
            "+-----+--------------------+---------------+--------------------+--------------------+\n",
            "|    0|Do you have the s...|Nonmisogynistic|Do you have the s...|Do you have the s...|\n",
            "|    1|Honestly my favor...|Nonmisogynistic|Honestly my favor...|Honestly my favor...|\n",
            "+-----+--------------------+---------------+--------------------+--------------------+\n",
            "\n"
          ]
        }
      ]
    },
    {
      "cell_type": "markdown",
      "source": [
        "Tokenização do texto"
      ],
      "metadata": {
        "id": "BzPOx4hZyqL9"
      }
    },
    {
      "cell_type": "code",
      "source": [
        "from pyspark.ml.feature import Tokenizer\n",
        "\n",
        "tokenizer = Tokenizer(inputCol = \"texto_limpo\", outputCol = \"tokens\")\n",
        "tokenizado = tokenizer.transform(dados)"
      ],
      "metadata": {
        "id": "0K8Td1bzcM2h"
      },
      "execution_count": null,
      "outputs": []
    },
    {
      "cell_type": "code",
      "source": [
        "tokenizado.select(\"texto_limpo\", \"tokens\").show()"
      ],
      "metadata": {
        "colab": {
          "base_uri": "https://localhost:8080/"
        },
        "id": "se6tiusecQDR",
        "outputId": "27a5ae6b-7eb2-49d8-cc68-a5445cbd91d9"
      },
      "execution_count": null,
      "outputs": [
        {
          "output_type": "stream",
          "name": "stdout",
          "text": [
            "+--------------------+--------------------+\n",
            "|         texto_limpo|              tokens|\n",
            "+--------------------+--------------------+\n",
            "|Do you have the s...|[do, you, have, t...|\n",
            "|Honestly my favor...|[honestly, my, fa...|\n",
            "|Source Doesnt sou...|[source, doesnt, ...|\n",
            "|Damn I saw a movi...|[damn, i, saw, a,...|\n",
            "|Some places have ...|[some, places, ha...|\n",
            "|So if I drink eno...|[so, if, i, drink...|\n",
            "|Youll Benjamin Bu...|[youll, benjamin,...|\n",
            "|Isnt this the plo...|[isnt, this, the,...|\n",
            "|No idea I watched...|[no, idea, i, wat...|\n",
            "|In the movie ther...|[in, the, movie, ...|\n",
            "|One of my friends...|[one, of, my, fri...|\n",
            "|What kinda Tom Br...|[what, kinda, tom...|\n",
            "|   Recommended by FF|[recommended, by,...|\n",
            "|Professionals say...|[professionals, s...|\n",
            "|      Virgina Spread|   [virgina, spread]|\n",
            "|I cant believe it...|[i, cant, believe...|\n",
            "|I hate you becaus...|[i, hate, you, be...|\n",
            "|Even if you chug ...|[even, if, you, c...|\n",
            "|Ill need way more...|[ill, need, way, ...|\n",
            "|I think I have a ...|[i, think, i, hav...|\n",
            "+--------------------+--------------------+\n",
            "only showing top 20 rows\n",
            "\n"
          ]
        }
      ]
    },
    {
      "cell_type": "markdown",
      "source": [
        "Contagem dos tokens"
      ],
      "metadata": {
        "id": "xKjqh5PbytYN"
      }
    },
    {
      "cell_type": "code",
      "source": [
        "from pyspark.sql.types import IntegerType"
      ],
      "metadata": {
        "id": "W_FnoZ7lcjUK"
      },
      "execution_count": null,
      "outputs": []
    },
    {
      "cell_type": "code",
      "source": [
        "countTokens = f.udf(lambda tokens: len(tokens), IntegerType())\n",
        "tokenizado.select(\"texto_limpo\", \"tokens\").withColumn(\"Freq_tokens\", countTokens(f.col(\"tokens\"))).show()"
      ],
      "metadata": {
        "colab": {
          "base_uri": "https://localhost:8080/"
        },
        "id": "QNg0-KY0cTUp",
        "outputId": "7dcd23c2-d2d3-488d-8b05-8c0374235257"
      },
      "execution_count": null,
      "outputs": [
        {
          "output_type": "stream",
          "name": "stdout",
          "text": [
            "+--------------------+--------------------+-----------+\n",
            "|         texto_limpo|              tokens|Freq_tokens|\n",
            "+--------------------+--------------------+-----------+\n",
            "|Do you have the s...|[do, you, have, t...|         17|\n",
            "|Honestly my favor...|[honestly, my, fa...|         29|\n",
            "|Source Doesnt sou...|[source, doesnt, ...|          7|\n",
            "|Damn I saw a movi...|[damn, i, saw, a,...|         32|\n",
            "|Some places have ...|[some, places, ha...|         16|\n",
            "|So if I drink eno...|[so, if, i, drink...|         11|\n",
            "|Youll Benjamin Bu...|[youll, benjamin,...|          5|\n",
            "|Isnt this the plo...|[isnt, this, the,...|          6|\n",
            "|No idea I watched...|[no, idea, i, wat...|         29|\n",
            "|In the movie ther...|[in, the, movie, ...|         35|\n",
            "|One of my friends...|[one, of, my, fri...|         38|\n",
            "|What kinda Tom Br...|[what, kinda, tom...|          7|\n",
            "|   Recommended by FF|[recommended, by,...|          3|\n",
            "|Professionals say...|[professionals, s...|         21|\n",
            "|      Virgina Spread|   [virgina, spread]|          2|\n",
            "|I cant believe it...|[i, cant, believe...|          8|\n",
            "|I hate you becaus...|[i, hate, you, be...|         19|\n",
            "|Even if you chug ...|[even, if, you, c...|         19|\n",
            "|Ill need way more...|[ill, need, way, ...|         12|\n",
            "|I think I have a ...|[i, think, i, hav...|         16|\n",
            "+--------------------+--------------------+-----------+\n",
            "only showing top 20 rows\n",
            "\n"
          ]
        }
      ]
    },
    {
      "cell_type": "markdown",
      "source": [
        "Retirada das stop words"
      ],
      "metadata": {
        "id": "YfZW8vntywX2"
      }
    },
    {
      "cell_type": "code",
      "source": [
        "#teste (nltk)\n",
        "import nltk\n",
        "nltk.download(\"stopwords\")\n",
        "\n",
        "from nltk.corpus import stopwords\n",
        "stop_nltk = stopwords.words(\"english\")"
      ],
      "metadata": {
        "colab": {
          "base_uri": "https://localhost:8080/"
        },
        "id": "dmOwsMT82ymg",
        "outputId": "4a0ef2ea-e3f4-4e56-84e9-ac3cfb0ac92e"
      },
      "execution_count": null,
      "outputs": [
        {
          "output_type": "stream",
          "name": "stderr",
          "text": [
            "[nltk_data] Downloading package stopwords to /root/nltk_data...\n",
            "[nltk_data]   Unzipping corpora/stopwords.zip.\n"
          ]
        }
      ]
    },
    {
      "cell_type": "code",
      "source": [
        "from pyspark.ml.feature import StopWordsRemover\n",
        "\n",
        "stop = StopWordsRemover.loadDefaultStopWords(\"english\")"
      ],
      "metadata": {
        "id": "pmD2mzv1erBR"
      },
      "execution_count": null,
      "outputs": []
    },
    {
      "cell_type": "code",
      "source": [
        "from pyspark.ml.feature import Tokenizer"
      ],
      "metadata": {
        "id": "8RHsW7AMfdSH"
      },
      "execution_count": null,
      "outputs": []
    },
    {
      "cell_type": "code",
      "source": [
        "tokenizer = Tokenizer(inputCol = \"texto_limpo\", outputCol = \"tokens\" )\n",
        "tokenized = tokenizer.transform(dados)\n"
      ],
      "metadata": {
        "id": "8nKnb0tWevAw"
      },
      "execution_count": null,
      "outputs": []
    },
    {
      "cell_type": "code",
      "source": [
        "remover = StopWordsRemover(inputCol = \"tokens\", outputCol = \"texto_final\", stopWords= stop)\n",
        "feature_data = remover.transform(tokenizado)"
      ],
      "metadata": {
        "id": "rT3eQC6yjHg-"
      },
      "execution_count": null,
      "outputs": []
    },
    {
      "cell_type": "code",
      "source": [
        "feature_data.select(\"tokens\", \"texto_final\").limit(11).show(truncate = False)"
      ],
      "metadata": {
        "colab": {
          "base_uri": "https://localhost:8080/"
        },
        "id": "-hohfMuTjJNN",
        "outputId": "188632fe-266c-4204-d5d1-d00c392aff67"
      },
      "execution_count": null,
      "outputs": [
        {
          "output_type": "stream",
          "name": "stdout",
          "text": [
            "+---------------------------------------------------------------------------------------------------------------------------------------------------------------------------------------------------------------------------------------------+--------------------------------------------------------------------------------------------------------------------------------------------------------------------+\n",
            "|tokens                                                                                                                                                                                                                                       |texto_final                                                                                                                                                         |\n",
            "+---------------------------------------------------------------------------------------------------------------------------------------------------------------------------------------------------------------------------------------------+--------------------------------------------------------------------------------------------------------------------------------------------------------------------+\n",
            "|[do, you, have, the, skin, of, a, 80, year, old, grandma, worry, no, more, just, drink, water]                                                                                                                                               |[skin, 80, year, old, grandma, worry, drink, water]                                                                                                                 |\n",
            "|[honestly, my, favorite, thing, about, this, is, that, they, feel, the, need, to, cite, beauty, professionals, in, order, to, prove, that, dehydration, is, caused, by, not, drinking, enough, water]                                        |[honestly, favorite, thing, feel, need, cite, beauty, professionals, order, prove, dehydration, caused, drinking, enough, water]                                    |\n",
            "|[source, doesnt, sound, right, to, me, idk]                                                                                                                                                                                                  |[source, doesnt, sound, right, idk]                                                                                                                                 |\n",
            "|[damn, i, saw, a, movie, in, which, the, old, woman, bathed, in, the, blood, if, virgins, , to, do, this, , how, did, no, one, tell, her, she, just, needed, some, water]                                                                    |[damn, saw, movie, old, woman, bathed, blood, virgins, , , one, tell, needed, water]                                                                                |\n",
            "|[some, places, have, poor, water, quality, virgin, blood, may, have, been, less, expensive, than, imported, water]                                                                                                                           |[places, poor, water, quality, virgin, blood, may, less, expensive, imported, water]                                                                                |\n",
            "|[so, if, i, drink, enough, water, i, turn, into, a, baby]                                                                                                                                                                                    |[drink, enough, water, turn, baby]                                                                                                                                  |\n",
            "|[youll, benjamin, button, yourself, yes]                                                                                                                                                                                                     |[youll, benjamin, button, yes]                                                                                                                                      |\n",
            "|[isnt, this, the, plot, of, cocoon]                                                                                                                                                                                                          |[isnt, plot, cocoon]                                                                                                                                                |\n",
            "|[no, idea, i, watched, the, movie, 10, years, or, so, ago, with, my, dad, and, all, i, can, remember, are, the, doctors, being, shocked, that, the, lady, was, pregnant]                                                                     |[idea, watched, movie, 10, years, ago, dad, remember, doctors, shocked, lady, pregnant]                                                                             |\n",
            "|[in, the, movie, there, is, this, group, of, elderly, that, discover, that, they, feel, suspiciously, rejuvenated, by, going, for, a, bath, in, a, special, swimming, pool, i, was, just, being, silly, with, the, waterdeaging, association]|[movie, group, elderly, discover, feel, suspiciously, rejuvenated, going, bath, special, swimming, pool, silly, waterdeaging, association]                          |\n",
            "|[one, of, my, friends, looks, like, hes, frikkin, dead, been, trying, for, years, to, pour, water, down, his, throat, and, get, him, to, wash, his, face, recently, won, the, face, washing, battle, and, he, looks, 5, years, younger]      |[one, friends, looks, like, hes, frikkin, dead, trying, years, pour, water, throat, get, wash, face, recently, won, face, washing, battle, looks, 5, years, younger]|\n",
            "+---------------------------------------------------------------------------------------------------------------------------------------------------------------------------------------------------------------------------------------------+--------------------------------------------------------------------------------------------------------------------------------------------------------------------+\n",
            "\n"
          ]
        }
      ]
    },
    {
      "cell_type": "code",
      "source": [
        "countTokens = f.udf(lambda tokens: len(tokens), IntegerType())\n",
        "tokenizado.select(\"texto_limpo\", \"tokens\").withColumn(\"Freq_tokens\", countTokens(f.col(\"tokens\"))).show()"
      ],
      "metadata": {
        "colab": {
          "base_uri": "https://localhost:8080/"
        },
        "id": "SNLEndQrkKvV",
        "outputId": "cab3c892-37db-4e5f-97dd-de7e285ccb69"
      },
      "execution_count": null,
      "outputs": [
        {
          "output_type": "stream",
          "name": "stdout",
          "text": [
            "+--------------------+--------------------+-----------+\n",
            "|         texto_limpo|              tokens|Freq_tokens|\n",
            "+--------------------+--------------------+-----------+\n",
            "|Do you have the s...|[do, you, have, t...|         17|\n",
            "|Honestly my favor...|[honestly, my, fa...|         29|\n",
            "|Source Doesnt sou...|[source, doesnt, ...|          7|\n",
            "|Damn I saw a movi...|[damn, i, saw, a,...|         32|\n",
            "|Some places have ...|[some, places, ha...|         16|\n",
            "|So if I drink eno...|[so, if, i, drink...|         11|\n",
            "|Youll Benjamin Bu...|[youll, benjamin,...|          5|\n",
            "|Isnt this the plo...|[isnt, this, the,...|          6|\n",
            "|No idea I watched...|[no, idea, i, wat...|         29|\n",
            "|In the movie ther...|[in, the, movie, ...|         35|\n",
            "|One of my friends...|[one, of, my, fri...|         38|\n",
            "|What kinda Tom Br...|[what, kinda, tom...|          7|\n",
            "|   Recommended by FF|[recommended, by,...|          3|\n",
            "|Professionals say...|[professionals, s...|         21|\n",
            "|      Virgina Spread|   [virgina, spread]|          2|\n",
            "|I cant believe it...|[i, cant, believe...|          8|\n",
            "|I hate you becaus...|[i, hate, you, be...|         19|\n",
            "|Even if you chug ...|[even, if, you, c...|         19|\n",
            "|Ill need way more...|[ill, need, way, ...|         12|\n",
            "|I think I have a ...|[i, think, i, hav...|         16|\n",
            "+--------------------+--------------------+-----------+\n",
            "only showing top 20 rows\n",
            "\n"
          ]
        }
      ]
    },
    {
      "cell_type": "code",
      "source": [
        "feature_data.select(\"tokens\", \"texto_final\")\\\n",
        "          .withColumn(\"Freq_tokens\", countTokens(f.col(\"tokens\")))\\\n",
        "          .withColumn(\"Freq_tokens_limpos\",  countTokens(f.col(\"texto_final\"))).show()"
      ],
      "metadata": {
        "colab": {
          "base_uri": "https://localhost:8080/"
        },
        "id": "-dpl3sPYjl_n",
        "outputId": "75e7cba2-410d-4fbc-f37f-f6f1d530fd61"
      },
      "execution_count": null,
      "outputs": [
        {
          "output_type": "stream",
          "name": "stdout",
          "text": [
            "+--------------------+--------------------+-----------+------------------+\n",
            "|              tokens|         texto_final|Freq_tokens|Freq_tokens_limpos|\n",
            "+--------------------+--------------------+-----------+------------------+\n",
            "|[do, you, have, t...|[skin, 80, year, ...|         17|                 8|\n",
            "|[honestly, my, fa...|[honestly, favori...|         29|                15|\n",
            "|[source, doesnt, ...|[source, doesnt, ...|          7|                 5|\n",
            "|[damn, i, saw, a,...|[damn, saw, movie...|         32|                14|\n",
            "|[some, places, ha...|[places, poor, wa...|         16|                11|\n",
            "|[so, if, i, drink...|[drink, enough, w...|         11|                 5|\n",
            "|[youll, benjamin,...|[youll, benjamin,...|          5|                 4|\n",
            "|[isnt, this, the,...|[isnt, plot, cocoon]|          6|                 3|\n",
            "|[no, idea, i, wat...|[idea, watched, m...|         29|                12|\n",
            "|[in, the, movie, ...|[movie, group, el...|         35|                15|\n",
            "|[one, of, my, fri...|[one, friends, lo...|         38|                24|\n",
            "|[what, kinda, tom...|[kinda, tom, brad...|          7|                 4|\n",
            "|[recommended, by,...|   [recommended, ff]|          3|                 2|\n",
            "|[professionals, s...|[professionals, s...|         21|                12|\n",
            "|   [virgina, spread]|   [virgina, spread]|          2|                 2|\n",
            "|[i, cant, believe...|[cant, believe, v...|          8|                 5|\n",
            "|[i, hate, you, be...|[hate, middle, ni...|         19|                 8|\n",
            "|[even, if, you, c...|[even, chug, hand...|         19|                 9|\n",
            "|[ill, need, way, ...|[ill, need, way, ...|         12|                 7|\n",
            "|[i, think, i, hav...|[think, couple, h...|         16|                 7|\n",
            "+--------------------+--------------------+-----------+------------------+\n",
            "only showing top 20 rows\n",
            "\n"
          ]
        }
      ]
    },
    {
      "cell_type": "code",
      "source": [
        "from pyspark.ml.feature import CountVectorizer\n",
        "cv = CountVectorizer(inputCol=\"texto_final\", outputCol=\"CountVec\")\n",
        "model = cv.fit(feature_data)\n",
        "countVectorizer_features = model.transform(feature_data)\n",
        "\n",
        "countVectorizer_features.select('texto_final','CountVec').limit(5).show()#truncate=False"
      ],
      "metadata": {
        "colab": {
          "base_uri": "https://localhost:8080/"
        },
        "id": "T0oZe-YslRN1",
        "outputId": "3066e71c-af97-43cf-fd9f-7933fd1a0056"
      },
      "execution_count": null,
      "outputs": [
        {
          "output_type": "stream",
          "name": "stdout",
          "text": [
            "+--------------------+--------------------+\n",
            "|         texto_final|            CountVec|\n",
            "+--------------------+--------------------+\n",
            "|[skin, 80, year, ...|(9929,[173,190,36...|\n",
            "|[honestly, favori...|(9929,[27,31,37,2...|\n",
            "|[source, doesnt, ...|(9929,[32,48,510,...|\n",
            "|[damn, saw, movie...|(9929,[1,9,25,161...|\n",
            "|[places, poor, wa...|(9929,[134,167,36...|\n",
            "+--------------------+--------------------+\n",
            "\n"
          ]
        }
      ]
    },
    {
      "cell_type": "code",
      "source": [
        "from pyspark.ml.feature import HashingTF\n",
        "\n",
        "hashingTF = HashingTF(inputCol=\"texto_final\", outputCol=\"hashingTF\")\n",
        "hashingTF.setNumFeatures(1000)\n",
        "\n",
        "HTFfeaturizedData = hashingTF.transform(countVectorizer_features)\n",
        "\n",
        "\n"
      ],
      "metadata": {
        "id": "jhEf7Vb7lURW"
      },
      "execution_count": null,
      "outputs": []
    },
    {
      "cell_type": "code",
      "source": [
        "HTFfeaturizedData.select(\"texto_final\", \"hashingTF\").limit(5).show()"
      ],
      "metadata": {
        "colab": {
          "base_uri": "https://localhost:8080/"
        },
        "id": "IUJiQtcZlVil",
        "outputId": "6645a702-6332-4144-ad3d-bf580fccbb42"
      },
      "execution_count": null,
      "outputs": [
        {
          "output_type": "stream",
          "name": "stdout",
          "text": [
            "+--------------------+--------------------+\n",
            "|         texto_final|           hashingTF|\n",
            "+--------------------+--------------------+\n",
            "|[skin, 80, year, ...|(1000,[83,292,343...|\n",
            "|[honestly, favori...|(1000,[74,86,115,...|\n",
            "|[source, doesnt, ...|(1000,[166,721,79...|\n",
            "|[damn, saw, movie...|(1000,[83,129,162...|\n",
            "|[places, poor, wa...|(1000,[103,160,19...|\n",
            "+--------------------+--------------------+\n",
            "\n"
          ]
        }
      ]
    },
    {
      "cell_type": "code",
      "source": [
        "from pyspark.ml.feature import IDF\n",
        "idf = IDF(inputCol=\"hashingTF\", outputCol=\"features\")\n",
        "idfModel = idf.fit(HTFfeaturizedData)\n",
        "TFIDFfeaturizedData = idfModel.transform(HTFfeaturizedData)\n"
      ],
      "metadata": {
        "id": "mMf5PQVnluNC"
      },
      "execution_count": null,
      "outputs": []
    },
    {
      "cell_type": "code",
      "source": [
        "TFIDFfeaturizedData.select('texto_final', 'features').limit(5).show(truncate = False)"
      ],
      "metadata": {
        "colab": {
          "base_uri": "https://localhost:8080/"
        },
        "id": "vqos9R89lx_M",
        "outputId": "79db249e-67e0-43b0-c681-25aebc8c0020"
      },
      "execution_count": null,
      "outputs": [
        {
          "output_type": "stream",
          "name": "stdout",
          "text": [
            "+--------------------------------------------------------------------------------------------------------------------------------+-----------------------------------------------------------------------------------------------------------------------------------------------------------------------------------------------------------------------------------------------------------------------------------------------------------------------------------------------------+\n",
            "|texto_final                                                                                                                     |features                                                                                                                                                                                                                                                                                                                                             |\n",
            "+--------------------------------------------------------------------------------------------------------------------------------+-----------------------------------------------------------------------------------------------------------------------------------------------------------------------------------------------------------------------------------------------------------------------------------------------------------------------------------------------------+\n",
            "|[skin, 80, year, old, grandma, worry, drink, water]                                                                             |(1000,[83,292,343,589,833,899,922,974],[4.196366176614412,4.196366176614412,4.75946022892616,4.601831284722577,5.140827785455264,4.429981027795917,5.140827785455264,5.105736465643994])                                                                                                                                                             |\n",
            "|[honestly, favorite, thing, feel, need, cite, beauty, professionals, order, prove, dehydration, caused, drinking, enough, water]|(1000,[74,86,115,161,214,216,226,425,533,537,582,589,736,748,857],[5.039045091145321,4.784152841516532,3.6288452091718764,5.0072963928307415,5.214935757608986,3.66084794025805,4.6443908991413725,4.75946022892616,4.078583140958029,3.2856464897897126,5.294978465282522,4.601831284722577,4.711832179936906,4.329897569238935,3.6690112508972113])|\n",
            "|[source, doesnt, sound, right, idk]                                                                                             |(1000,[166,721,790,867,901],[4.2535245904543615,4.091005660956586,3.781684413401324,4.129226873776783,3.2365903328005183])                                                                                                                                                                                                                           |\n",
            "|[damn, saw, movie, old, woman, bathed, blood, virgins, , , one, tell, needed, water]                                            |(1000,[83,129,162,295,359,372,439,563,589,815,850,975,998],[4.196366176614412,5.582660537734303,4.976524734163988,5.177195429626138,5.477300022076476,4.923530242452612,5.039045091145321,3.4758200218663524,4.601831284722577,2.8454111819398307,4.2535245904543615,4.103584443163446,4.362158431457156])                                           |\n",
            "|[places, poor, water, quality, virgin, blood, may, less, expensive, imported, water]                                            |(1000,[103,160,195,290,311,359,480,506,589,920],[3.8383033074008317,4.129226873776783,4.103584443163446,5.0718349139683125,5.214935757608986,5.477300022076476,5.105736465643994,4.889513357174358,9.203662569445154,4.541206662906141])                                                                                                             |\n",
            "+--------------------------------------------------------------------------------------------------------------------------------+-----------------------------------------------------------------------------------------------------------------------------------------------------------------------------------------------------------------------------------------------------------------------------------------------------------------------------------------------------+\n",
            "\n"
          ]
        }
      ]
    },
    {
      "cell_type": "code",
      "source": [
        "TFIDFfeaturizedData.groupBy('level_1').count().show()"
      ],
      "metadata": {
        "colab": {
          "base_uri": "https://localhost:8080/"
        },
        "id": "E08SccmNl2pM",
        "outputId": "6453ac22-a290-43d7-99a1-df854af34c3a"
      },
      "execution_count": null,
      "outputs": [
        {
          "output_type": "stream",
          "name": "stdout",
          "text": [
            "+--------------------+-----+\n",
            "|             level_1|count|\n",
            "+--------------------+-----+\n",
            "| which they would...|    1|\n",
            "| feel BIGGER than...|    1|\n",
            "|           (5, 2, 1)|    1|\n",
            "|             (27, 3)|    1|\n",
            "|                   8|    1|\n",
            "|My primary slave ...|    1|\n",
            "| BLS and some of ...|    1|\n",
            "|Sexual_or_physica...|    3|\n",
            "| I KNEW that I wa...|    1|\n",
            "| you'll be abused...|    1|\n",
            "|So of course she ...|    1|\n",
            "|           Hypergamy|    1|\n",
            "|               Stacy|    1|\n",
            "| instilling certa...|    1|\n",
            "| thin with a bit ...|    5|\n",
            "|I have even had g...|    1|\n",
            "| I didn't take my...|    1|\n",
            "|               sluts|    2|\n",
            "|Luckily, feminist...|    1|\n",
            "|           (3, 1, 1)|    1|\n",
            "+--------------------+-----+\n",
            "only showing top 20 rows\n",
            "\n"
          ]
        }
      ]
    },
    {
      "cell_type": "code",
      "source": [
        "from pyspark.ml.feature import StringIndexer\n",
        "\n",
        "stringindexer = StringIndexer(inputCol=\"level_1\", outputCol=\"label\")\n",
        "dados = stringindexer.fit(dados).transform(dados)"
      ],
      "metadata": {
        "id": "WFHPtDCnmGOs"
      },
      "execution_count": null,
      "outputs": []
    },
    {
      "cell_type": "code",
      "source": [
        "dados.groupBy(['level_1','label']).count().show()"
      ],
      "metadata": {
        "colab": {
          "base_uri": "https://localhost:8080/"
        },
        "id": "oFRM-zEomJus",
        "outputId": "809e05f0-3e6e-48f5-904c-883173e957dd"
      },
      "execution_count": null,
      "outputs": [
        {
          "output_type": "stream",
          "name": "stdout",
          "text": [
            "+--------------------+-----+-----+\n",
            "|             level_1|label|count|\n",
            "+--------------------+-----+-----+\n",
            "|             beckies| 69.0|    1|\n",
            "|               becky| 70.0|    1|\n",
            "|Luckily, feminist...| 62.0|    1|\n",
            "|So of course she ...| 66.0|    1|\n",
            "|                (8,)| 53.0|    1|\n",
            "|     Nonmisogynistic|  0.0| 4246|\n",
            "|Nature of the abu...|  7.0|    4|\n",
            "|             (47, 6)| 15.0|    2|\n",
            "|          (55, 4, 1)| 48.0|    1|\n",
            "|*‚ÄúYou just remi...| 55.0|    1|\n",
            "|           Hypergamy| 18.0|    1|\n",
            "|             (10, 4)| 42.0|    1|\n",
            "|Women do not like...| 68.0|    1|\n",
            "| but normies have...| 25.0|    1|\n",
            "|I vet them and th...| 60.0|    1|\n",
            "| to escalate and ...| 37.0|    1|\n",
            "|women are likely ...| 77.0|    1|\n",
            "|                test|  2.0|  112|\n",
            "|                   8| 57.0|    1|\n",
            "|   The Rational Male|  8.0|    3|\n",
            "+--------------------+-----+-----+\n",
            "only showing top 20 rows\n",
            "\n"
          ]
        }
      ]
    },
    {
      "cell_type": "markdown",
      "source": [
        "Definição dos dados de treino(train) e teste(test)"
      ],
      "metadata": {
        "id": "Aca3MNXe2KZy"
      }
    },
    {
      "cell_type": "code",
      "source": [
        "train, test = dados.randomSplit([0.7, 0.3], seed = 101)"
      ],
      "metadata": {
        "id": "VAREXZyStQ4Q"
      },
      "execution_count": null,
      "outputs": []
    },
    {
      "cell_type": "markdown",
      "source": [
        "![image.png](data:image/png;base64,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)"
      ],
      "metadata": {
        "id": "VhWW5FoG1lXE"
      }
    },
    {
      "cell_type": "markdown",
      "source": [
        "https://spark.apache.org/docs/2.2.0/mllib-classification-regression.html"
      ],
      "metadata": {
        "id": "LhfOMoPz1nNx"
      }
    },
    {
      "cell_type": "markdown",
      "source": [
        "Árvore de Decisão"
      ],
      "metadata": {
        "id": "02YYlpLh8MXW"
      }
    },
    {
      "cell_type": "code",
      "source": [
        "from pyspark.ml import Pipeline\n",
        "from pyspark.ml.classification import DecisionTreeClassifier\n",
        "\n",
        "tokenizer = Tokenizer(inputCol=\"texto_limpo\", outputCol=\"tokens\")\n",
        "stopwords = StopWordsRemover(inputCol=\"tokens\", outputCol=\"texto_final\")\n",
        "hashingTF = HashingTF(inputCol=stopwords.getOutputCol(), outputCol=\"HTF\", numFeatures=1000)\n",
        "tfidf = IDF(inputCol=\"HTF\", outputCol=\"features\")\n",
        "dt = DecisionTreeClassifier(featuresCol='features', labelCol='label', maxDepth=10)\n",
        "\n",
        "pipeline_arvore = Pipeline(stages = [tokenizer,stopwords, hashingTF, tfidf, dt])"
      ],
      "metadata": {
        "id": "GnfNep4Am3jM"
      },
      "execution_count": null,
      "outputs": []
    },
    {
      "cell_type": "code",
      "source": [
        "dados_transformados = pipeline_arvore.fit(dados).transform(dados)\n",
        "dados_transformados.limit(5).show()"
      ],
      "metadata": {
        "colab": {
          "base_uri": "https://localhost:8080/"
        },
        "id": "lG8ru8JHmVQE",
        "outputId": "3c3a7ebb-aed4-4479-fe8f-d670c826c800"
      },
      "execution_count": null,
      "outputs": [
        {
          "output_type": "stream",
          "name": "stdout",
          "text": [
            "+-----+--------------------+---------------+--------------------+--------------------+-----+--------------------+--------------------+--------------------+--------------------+--------------------+--------------------+----------+\n",
            "|index|                body|        level_1|         texto_regex|         texto_limpo|label|              tokens|         texto_final|                 HTF|            features|       rawPrediction|         probability|prediction|\n",
            "+-----+--------------------+---------------+--------------------+--------------------+-----+--------------------+--------------------+--------------------+--------------------+--------------------+--------------------+----------+\n",
            "|    0|Do you have the s...|Nonmisogynistic|Do you have the s...|Do you have the s...|  0.0|[do, you, have, t...|[skin, 80, year, ...|(1000,[83,292,343...|(1000,[83,292,343...|[3648.0,126.0,33....|[0.93875450334534...|       0.0|\n",
            "|    1|Honestly my favor...|Nonmisogynistic|Honestly my favor...|Honestly my favor...|  0.0|[honestly, my, fa...|[honestly, favori...|(1000,[74,86,115,...|(1000,[74,86,115,...|[3648.0,126.0,33....|[0.93875450334534...|       0.0|\n",
            "|    2|Source? Doesnt so...|Nonmisogynistic|Source Doesnt sou...|Source Doesnt sou...|  0.0|[source, doesnt, ...|[source, doesnt, ...|(1000,[166,721,79...|(1000,[166,721,79...|[3648.0,126.0,33....|[0.93875450334534...|       0.0|\n",
            "|    3|Damn, I saw a mov...|   Misogynistic|Damn I saw a movi...|Damn I saw a movi...|  1.0|[damn, i, saw, a,...|[damn, saw, movie...|(1000,[83,129,162...|(1000,[83,129,162...|[86.0,17.0,0.0,0....|[0.83495145631067...|       0.0|\n",
            "|    4|Some places have ...|Nonmisogynistic|Some places have ...|Some places have ...|  0.0|[some, places, ha...|[places, poor, wa...|(1000,[103,160,19...|(1000,[103,160,19...|[3648.0,126.0,33....|[0.93875450334534...|       0.0|\n",
            "+-----+--------------------+---------------+--------------------+--------------------+-----+--------------------+--------------------+--------------------+--------------------+--------------------+--------------------+----------+\n",
            "\n"
          ]
        }
      ]
    },
    {
      "cell_type": "code",
      "source": [
        "dt_model_treino = pipeline_arvore.fit(train)\n",
        "predictions_treino_arvore = dt_model_treino.transform(train)"
      ],
      "metadata": {
        "id": "XwB8eMa2tSGJ"
      },
      "execution_count": null,
      "outputs": []
    },
    {
      "cell_type": "code",
      "source": [
        "dt_model_teste = pipeline_arvore.fit(test)\n",
        "predictions_teste_arvore = dt_model_teste.transform(test)"
      ],
      "metadata": {
        "id": "mQGzpqUIWbQj"
      },
      "execution_count": null,
      "outputs": []
    },
    {
      "cell_type": "code",
      "source": [
        "predictions_teste_arvore.show()"
      ],
      "metadata": {
        "colab": {
          "base_uri": "https://localhost:8080/"
        },
        "id": "vHYCgEmFtUL4",
        "outputId": "a1160638-686d-4334-c5e5-5b4180f84938"
      },
      "execution_count": null,
      "outputs": [
        {
          "output_type": "stream",
          "name": "stdout",
          "text": [
            "+-----+--------------------+---------------+--------------------+--------------------+-----+--------------------+--------------------+--------------------+--------------------+--------------------+--------------------+----------+\n",
            "|index|                body|        level_1|         texto_regex|         texto_limpo|label|              tokens|         texto_final|                 HTF|            features|       rawPrediction|         probability|prediction|\n",
            "+-----+--------------------+---------------+--------------------+--------------------+-----+--------------------+--------------------+--------------------+--------------------+--------------------+--------------------+----------+\n",
            "|    4|Some places have ...|Nonmisogynistic|Some places have ...|Some places have ...|  0.0|[some, places, ha...|[places, poor, wa...|(1000,[103,160,19...|(1000,[103,160,19...|[1112.0,39.0,15.0...|[0.93681550126369...|       0.0|\n",
            "|    5|So if I drink eno...|Nonmisogynistic|So if I drink eno...|So if I drink eno...|  0.0|[so, if, i, drink...|[drink, enough, w...|(1000,[292,348,58...|(1000,[292,348,58...|[1112.0,39.0,15.0...|[0.93681550126369...|       0.0|\n",
            "|   14|     Virgina Spread |Nonmisogynistic|     Virgina Spread |      Virgina Spread|  0.0|   [virgina, spread]|   [virgina, spread]|(1000,[194,275],[...|(1000,[194,275],[...|[1112.0,39.0,15.0...|[0.93681550126369...|       0.0|\n",
            "|   15|*I can't believe ...|Nonmisogynistic|I cant believe it...|I cant believe it...|  0.0|[i, cant, believe...|[cant, believe, v...|(1000,[26,194,275...|(1000,[26,194,275...|[1112.0,39.0,15.0...|[0.93681550126369...|       0.0|\n",
            "|   18|I'll need *way* m...|Nonmisogynistic|Ill need way more...|Ill need way more...|  0.0|[ill, need, way, ...|[ill, need, way, ...|(1000,[86,248,391...|(1000,[86,248,391...|[1112.0,39.0,15.0...|[0.93681550126369...|       0.0|\n",
            "|   20|Well now the secr...|Nonmisogynistic|Well now the secr...|Well now the secr...|  0.0|[well, now, the, ...|     [well, secrets]|(1000,[157,164],[...|(1000,[157,164],[...|[1112.0,39.0,15.0...|[0.93681550126369...|       0.0|\n",
            "|   22|  r/ihadastroke ...?|Nonmisogynistic|       rihadastroke |        rihadastroke|  0.0|      [rihadastroke]|      [rihadastroke]|  (1000,[784],[1.0])|(1000,[784],[4.86...|[1112.0,39.0,15.0...|[0.93681550126369...|       0.0|\n",
            "|   23|When you think it...|Nonmisogynistic|When you think it...|When you think it...|  0.0|[when, you, think...|[think, butter, s...|(1000,[159,335,39...|(1000,[159,335,39...|[1112.0,39.0,15.0...|[0.93681550126369...|       0.0|\n",
            "|   33|at first i was re...|Nonmisogynistic|at first i was re...|at first i was re...|  0.0|[at, first, i, wa...|[first, really, s...|(1000,[38,85,112,...|(1000,[38,85,112,...|[1112.0,39.0,15.0...|[0.93681550126369...|       0.0|\n",
            "|   35|Given that he wan...|Nonmisogynistic|Given that he wan...|Given that he wan...|  0.0|[given, that, he,...|[given, wants, as...|(1000,[35,49,237,...|(1000,[35,49,237,...|[79.0,11.0,0.0,0....|[0.87777777777777...|       0.0|\n",
            "|   36|My two favorite t...|Nonmisogynistic|My two favorite t...|My two favorite t...|  0.0|[my, two, favorit...|[two, favorite, t...|(1000,[70,74,86,2...|(1000,[70,74,86,2...|[1112.0,39.0,15.0...|[0.93681550126369...|       0.0|\n",
            "|   42|\"Vogoncel\".That m...|Nonmisogynistic|VogoncelThat made...|VogoncelThat made...|  0.0|[vogoncelthat, ma...|[vogoncelthat, ma...|(1000,[3,98,344,3...|(1000,[3,98,344,3...|[1112.0,39.0,15.0...|[0.93681550126369...|       0.0|\n",
            "|   47|But remember, the...|Nonmisogynistic|But remember thei...|But remember thei...|  0.0|[but, remember, t...|[remember, posts,...|(1000,[116,685,69...|(1000,[116,685,69...|[1112.0,39.0,15.0...|[0.93681550126369...|       0.0|\n",
            "|   50|Like listening to...|Nonmisogynistic|Like listening to...|Like listening to...|  0.0|[like, listening,...|[like, listening,...|(1000,[66,134,330...|(1000,[66,134,330...|[1112.0,39.0,15.0...|[0.93681550126369...|       0.0|\n",
            "|   51|God is the reason...|Nonmisogynistic|God is the reason...|God is the reason...|  0.0|[god, is, the, re...|[god, reason, per...|(1000,[150,234,40...|(1000,[150,234,40...|[1112.0,39.0,15.0...|[0.93681550126369...|       0.0|\n",
            "|   52|Personally I'd sa...|Nonmisogynistic|Personally Id say...|Personally Id say...|  0.0|[personally, id, ...|[personally, id, ...|(1000,[146,234,26...|(1000,[146,234,26...|[1112.0,39.0,15.0...|[0.93681550126369...|       0.0|\n",
            "|   56|Aren't you super ...|Nonmisogynistic|Arent you super h...|Arent you super h...|  0.0|[arent, you, supe...|[arent, super, hi...|(1000,[14,40,48,7...|(1000,[14,40,48,7...|[1112.0,39.0,15.0...|[0.93681550126369...|       0.0|\n",
            "|   58|I'm personally an...|Nonmisogynistic|Im personally an ...|Im personally an ...|  0.0|[im, personally, ...|[im, personally, ...|(1000,[123,212,23...|(1000,[123,212,23...|[1112.0,39.0,15.0...|[0.93681550126369...|       0.0|\n",
            "|   61|Yes.  Rights are ...|Nonmisogynistic|Yes  Rights are l...|Yes  Rights are l...|  0.0|[yes, , rights, a...|[yes, , rights, l...|(1000,[44,176,195...|(1000,[44,176,195...|[1112.0,39.0,15.0...|[0.93681550126369...|       0.0|\n",
            "|   63|\"Oh, if only I ha...|Nonmisogynistic|Oh if only I had ...|Oh if only I had ...|  0.0|[oh, if, only, i,...|[oh, born, days, ...|(1000,[36,224,424...|(1000,[36,224,424...|[1112.0,39.0,15.0...|[0.93681550126369...|       0.0|\n",
            "+-----+--------------------+---------------+--------------------+--------------------+-----+--------------------+--------------------+--------------------+--------------------+--------------------+--------------------+----------+\n",
            "only showing top 20 rows\n",
            "\n"
          ]
        }
      ]
    },
    {
      "cell_type": "code",
      "source": [
        "predictions_teste_arvore.select(['label','prediction']).show()"
      ],
      "metadata": {
        "colab": {
          "base_uri": "https://localhost:8080/"
        },
        "id": "G7QOT-ddtWY5",
        "outputId": "8bbfd7cd-a3e8-462a-ca50-f74f1e416632"
      },
      "execution_count": null,
      "outputs": [
        {
          "output_type": "stream",
          "name": "stdout",
          "text": [
            "+-----+----------+\n",
            "|label|prediction|\n",
            "+-----+----------+\n",
            "|  0.0|       0.0|\n",
            "|  0.0|       0.0|\n",
            "|  0.0|       0.0|\n",
            "|  0.0|       0.0|\n",
            "|  0.0|       0.0|\n",
            "|  0.0|       0.0|\n",
            "|  0.0|       0.0|\n",
            "|  0.0|       0.0|\n",
            "|  0.0|       0.0|\n",
            "|  0.0|       0.0|\n",
            "|  0.0|       0.0|\n",
            "|  0.0|       0.0|\n",
            "|  0.0|       0.0|\n",
            "|  0.0|       0.0|\n",
            "|  0.0|       0.0|\n",
            "|  0.0|       0.0|\n",
            "|  0.0|       0.0|\n",
            "|  0.0|       0.0|\n",
            "|  0.0|       0.0|\n",
            "|  0.0|       0.0|\n",
            "+-----+----------+\n",
            "only showing top 20 rows\n",
            "\n"
          ]
        }
      ]
    },
    {
      "cell_type": "code",
      "source": [
        "from pyspark.ml.evaluation import MulticlassClassificationEvaluator\n",
        "evaluator = MulticlassClassificationEvaluator(labelCol='label', predictionCol='prediction')"
      ],
      "metadata": {
        "id": "tyt-LiIytXuC"
      },
      "execution_count": null,
      "outputs": []
    },
    {
      "cell_type": "code",
      "source": [
        "print(\"Acuracia = %f\" % evaluator.evaluate(predictions_teste_arvore, {evaluator.metricName:'accuracy'}))\n",
        "print(\"Precisão = %f\" % evaluator.evaluate(predictions_teste_arvore, {evaluator.metricName:'precisionByLabel'}))\n",
        "print(\"Recall = %f\" % evaluator.evaluate(predictions_teste_arvore, {evaluator.metricName:'recallByLabel'}))\n",
        "print(\"F1 = %f\" % evaluator.evaluate(predictions_teste_arvore, {evaluator.metricName:'fMeasureByLabel'}))"
      ],
      "metadata": {
        "colab": {
          "base_uri": "https://localhost:8080/"
        },
        "id": "pH-iRFOMdi_W",
        "outputId": "957f82b7-b9f4-47d3-8611-d76ae236877a"
      },
      "execution_count": null,
      "outputs": [
        {
          "output_type": "stream",
          "name": "stdout",
          "text": [
            "Acuracia = 0.929972\n",
            "Precisão = 0.928152\n",
            "Recall = 0.998423\n",
            "F1 = 0.962006\n"
          ]
        }
      ]
    },
    {
      "cell_type": "markdown",
      "source": [
        "Random Forest"
      ],
      "metadata": {
        "id": "xG5dZ59FShI-"
      }
    },
    {
      "cell_type": "code",
      "source": [
        "from pyspark.ml.regression import RandomForestRegressor\n",
        "\n",
        "tokenizer = Tokenizer(inputCol=\"texto_limpo\", outputCol=\"tokens\")\n",
        "stopwords = StopWordsRemover(inputCol=\"tokens\", outputCol=\"texto_final\")\n",
        "hashingTF = HashingTF(inputCol=stopwords.getOutputCol(), outputCol=\"HTF\", numFeatures=1000)\n",
        "tfidf = IDF(inputCol=\"HTF\", outputCol=\"features\")\n",
        "rfr = RandomForestRegressor(featuresCol='features', labelCol='label', maxDepth=10, numTrees=10)\n",
        "\n",
        "pipeline_randomforest = Pipeline(stages=[tokenizer, stopwords, hashingTF, tfidf, rfr])\n",
        "\n"
      ],
      "metadata": {
        "id": "8ughMoa-SpNr"
      },
      "execution_count": null,
      "outputs": []
    },
    {
      "cell_type": "code",
      "source": [
        "rfr_model_treino = pipeline_randomforest.fit(train)\n",
        "predictions_treino_ranomforest = rfr_model_treino.transform(train)"
      ],
      "metadata": {
        "id": "cnz0-7QneKp8"
      },
      "execution_count": null,
      "outputs": []
    },
    {
      "cell_type": "code",
      "source": [
        "rfr_model_teste = pipeline_randomforest.fit(test)\n",
        "predictions_teste_randomforest = rfr_model_teste.transform(test)"
      ],
      "metadata": {
        "id": "MuhL5pjOeYyg"
      },
      "execution_count": null,
      "outputs": []
    },
    {
      "cell_type": "code",
      "source": [
        "predictions_teste_randomforest.show()"
      ],
      "metadata": {
        "colab": {
          "base_uri": "https://localhost:8080/"
        },
        "id": "5H1e1CuBTnBd",
        "outputId": "5bd59670-45cc-49ad-e478-71b11ab4b90c"
      },
      "execution_count": null,
      "outputs": [
        {
          "output_type": "stream",
          "name": "stdout",
          "text": [
            "+-----+--------------------+---------------+--------------------+--------------------+-----+--------------------+--------------------+--------------------+--------------------+-------------------+\n",
            "|index|                body|        level_1|         texto_regex|         texto_limpo|label|              tokens|         texto_final|                 HTF|            features|         prediction|\n",
            "+-----+--------------------+---------------+--------------------+--------------------+-----+--------------------+--------------------+--------------------+--------------------+-------------------+\n",
            "|    4|Some places have ...|Nonmisogynistic|Some places have ...|Some places have ...|  0.0|[some, places, ha...|[places, poor, wa...|(1000,[103,160,19...|(1000,[103,160,19...|0.12452731004123077|\n",
            "|    5|So if I drink eno...|Nonmisogynistic|So if I drink eno...|So if I drink eno...|  0.0|[so, if, i, drink...|[drink, enough, w...|(1000,[292,348,58...|(1000,[292,348,58...| 0.1535413874670729|\n",
            "|   14|     Virgina Spread |Nonmisogynistic|     Virgina Spread |      Virgina Spread|  0.0|   [virgina, spread]|   [virgina, spread]|(1000,[194,275],[...|(1000,[194,275],[...| 0.1535413874670729|\n",
            "|   15|*I can't believe ...|Nonmisogynistic|I cant believe it...|I cant believe it...|  0.0|[i, cant, believe...|[cant, believe, v...|(1000,[26,194,275...|(1000,[26,194,275...| 0.1535413874670729|\n",
            "|   18|I'll need *way* m...|Nonmisogynistic|Ill need way more...|Ill need way more...|  0.0|[ill, need, way, ...|[ill, need, way, ...|(1000,[86,248,391...|(1000,[86,248,391...| 0.1535413874670729|\n",
            "|   20|Well now the secr...|Nonmisogynistic|Well now the secr...|Well now the secr...|  0.0|[well, now, the, ...|     [well, secrets]|(1000,[157,164],[...|(1000,[157,164],[...| 0.1535413874670729|\n",
            "|   22|  r/ihadastroke ...?|Nonmisogynistic|       rihadastroke |        rihadastroke|  0.0|      [rihadastroke]|      [rihadastroke]|  (1000,[784],[1.0])|(1000,[784],[4.86...| 0.1535413874670729|\n",
            "|   23|When you think it...|Nonmisogynistic|When you think it...|When you think it...|  0.0|[when, you, think...|[think, butter, s...|(1000,[159,335,39...|(1000,[159,335,39...| 0.1535413874670729|\n",
            "|   33|at first i was re...|Nonmisogynistic|at first i was re...|at first i was re...|  0.0|[at, first, i, wa...|[first, really, s...|(1000,[38,85,112,...|(1000,[38,85,112,...| 0.1535413874670729|\n",
            "|   35|Given that he wan...|Nonmisogynistic|Given that he wan...|Given that he wan...|  0.0|[given, that, he,...|[given, wants, as...|(1000,[35,49,237,...|(1000,[35,49,237,...|  4.441263221918825|\n",
            "|   36|My two favorite t...|Nonmisogynistic|My two favorite t...|My two favorite t...|  0.0|[my, two, favorit...|[two, favorite, t...|(1000,[70,74,86,2...|(1000,[70,74,86,2...| 0.1535413874670729|\n",
            "|   42|\"Vogoncel\".That m...|Nonmisogynistic|VogoncelThat made...|VogoncelThat made...|  0.0|[vogoncelthat, ma...|[vogoncelthat, ma...|(1000,[3,98,344,3...|(1000,[3,98,344,3...| 0.1535413874670729|\n",
            "|   47|But remember, the...|Nonmisogynistic|But remember thei...|But remember thei...|  0.0|[but, remember, t...|[remember, posts,...|(1000,[116,685,69...|(1000,[116,685,69...| 0.1535413874670729|\n",
            "|   50|Like listening to...|Nonmisogynistic|Like listening to...|Like listening to...|  0.0|[like, listening,...|[like, listening,...|(1000,[66,134,330...|(1000,[66,134,330...| 0.1535413874670729|\n",
            "|   51|God is the reason...|Nonmisogynistic|God is the reason...|God is the reason...|  0.0|[god, is, the, re...|[god, reason, per...|(1000,[150,234,40...|(1000,[150,234,40...| 0.1535413874670729|\n",
            "|   52|Personally I'd sa...|Nonmisogynistic|Personally Id say...|Personally Id say...|  0.0|[personally, id, ...|[personally, id, ...|(1000,[146,234,26...|(1000,[146,234,26...| 0.1535413874670729|\n",
            "|   56|Aren't you super ...|Nonmisogynistic|Arent you super h...|Arent you super h...|  0.0|[arent, you, supe...|[arent, super, hi...|(1000,[14,40,48,7...|(1000,[14,40,48,7...| 0.1535413874670729|\n",
            "|   58|I'm personally an...|Nonmisogynistic|Im personally an ...|Im personally an ...|  0.0|[im, personally, ...|[im, personally, ...|(1000,[123,212,23...|(1000,[123,212,23...|0.13889939229410428|\n",
            "|   61|Yes.  Rights are ...|Nonmisogynistic|Yes  Rights are l...|Yes  Rights are l...|  0.0|[yes, , rights, a...|[yes, , rights, l...|(1000,[44,176,195...|(1000,[44,176,195...| 0.1535413874670729|\n",
            "|   63|\"Oh, if only I ha...|Nonmisogynistic|Oh if only I had ...|Oh if only I had ...|  0.0|[oh, if, only, i,...|[oh, born, days, ...|(1000,[36,224,424...|(1000,[36,224,424...| 0.1535413874670729|\n",
            "+-----+--------------------+---------------+--------------------+--------------------+-----+--------------------+--------------------+--------------------+--------------------+-------------------+\n",
            "only showing top 20 rows\n",
            "\n"
          ]
        }
      ]
    },
    {
      "cell_type": "code",
      "source": [
        "from pyspark.ml.evaluation import MulticlassClassificationEvaluator\n",
        "evaluator = MulticlassClassificationEvaluator(labelCol='label', predictionCol='prediction')"
      ],
      "metadata": {
        "id": "8RisGlqpTpi1"
      },
      "execution_count": null,
      "outputs": []
    },
    {
      "cell_type": "code",
      "source": [
        "print(\"Acuracia = %f\" % evaluator.evaluate(predictions_teste_randomforest, {evaluator.metricName:'accuracy'}))\n",
        "print(\"Precisão = %f\" % evaluator.evaluate(predictions_teste_randomforest, {evaluator.metricName:'precisionByLabel'}))\n",
        "print(\"Recall = %f\" % evaluator.evaluate(predictions_teste_randomforest, {evaluator.metricName:'recallByLabel'}))\n",
        "print(\"F1 = %f\" % evaluator.evaluate(predictions_teste_randomforest, {evaluator.metricName:'fMeasureByLabel'}))"
      ],
      "metadata": {
        "colab": {
          "base_uri": "https://localhost:8080/"
        },
        "id": "h9qjm8FmTsWN",
        "outputId": "cd05b14b-abcd-4ae4-9d99-c7cbd6bd2f6c"
      },
      "execution_count": null,
      "outputs": [
        {
          "output_type": "stream",
          "name": "stdout",
          "text": [
            "Acuracia = 0.000700\n",
            "Precisão = 1.000000\n",
            "Recall = 0.000789\n",
            "F1 = 0.001576\n"
          ]
        }
      ]
    },
    {
      "cell_type": "markdown",
      "source": [
        "Regressão Logistica"
      ],
      "metadata": {
        "id": "fxDjQ4lg666L"
      }
    },
    {
      "cell_type": "code",
      "source": [
        "from pyspark.ml.classification import LogisticRegression\n",
        "\n",
        "tokenizer = Tokenizer(inputCol=\"texto_limpo\", outputCol=\"tokens\")\n",
        "stopwords = StopWordsRemover(inputCol=\"tokens\", outputCol=\"texto_final\")\n",
        "hashingTF = HashingTF(inputCol=stopwords.getOutputCol(), outputCol=\"HTF\", numFeatures=1000)\n",
        "tfidf = IDF(inputCol=\"HTF\", outputCol=\"features\")\n",
        "lr = LogisticRegression(featuresCol='features', labelCol='label', maxIter=10, regParam=0.001)\n",
        "\n",
        "pipeline_logisticregression = Pipeline(stages=[tokenizer, stopwords, hashingTF, tfidf, lr])\n",
        "\n"
      ],
      "metadata": {
        "id": "DFxRLEceRMOJ"
      },
      "execution_count": null,
      "outputs": []
    },
    {
      "cell_type": "code",
      "source": [
        "lr_model_treino = pipeline_logisticregression.fit(train)\n",
        "predictions_treino_logisticregression = lr_model_treino.transform(train)"
      ],
      "metadata": {
        "id": "HNWkhWYrfQYR"
      },
      "execution_count": null,
      "outputs": []
    },
    {
      "cell_type": "code",
      "source": [
        "lr_model_teste = pipeline_logisticregression.fit(test)\n",
        "predictions_teste_logisticregression = lr_model_teste.transform(test)"
      ],
      "metadata": {
        "id": "MUsjOfSCfSGq"
      },
      "execution_count": null,
      "outputs": []
    },
    {
      "cell_type": "code",
      "source": [
        "predictions_teste_logisticregression.show()"
      ],
      "metadata": {
        "colab": {
          "base_uri": "https://localhost:8080/"
        },
        "id": "-ugBybuYRaTq",
        "outputId": "b525fc6d-8c17-4398-cbc1-eee0176bae32"
      },
      "execution_count": null,
      "outputs": [
        {
          "output_type": "stream",
          "name": "stdout",
          "text": [
            "+-----+--------------------+---------------+--------------------+--------------------+-----+--------------------+--------------------+--------------------+--------------------+--------------------+--------------------+----------+\n",
            "|index|                body|        level_1|         texto_regex|         texto_limpo|label|              tokens|         texto_final|                 HTF|            features|       rawPrediction|         probability|prediction|\n",
            "+-----+--------------------+---------------+--------------------+--------------------+-----+--------------------+--------------------+--------------------+--------------------+--------------------+--------------------+----------+\n",
            "|    4|Some places have ...|Nonmisogynistic|Some places have ...|Some places have ...|  0.0|[some, places, ha...|[places, poor, wa...|(1000,[103,160,19...|(1000,[103,160,19...|[14.6861920172931...|[0.99996502612838...|       0.0|\n",
            "|    5|So if I drink eno...|Nonmisogynistic|So if I drink eno...|So if I drink eno...|  0.0|[so, if, i, drink...|[drink, enough, w...|(1000,[292,348,58...|(1000,[292,348,58...|[12.9126045088551...|[0.99971844365984...|       0.0|\n",
            "|   14|     Virgina Spread |Nonmisogynistic|     Virgina Spread |      Virgina Spread|  0.0|   [virgina, spread]|   [virgina, spread]|(1000,[194,275],[...|(1000,[194,275],[...|[11.4922383098654...|[0.99879766304028...|       0.0|\n",
            "|   15|*I can't believe ...|Nonmisogynistic|I cant believe it...|I cant believe it...|  0.0|[i, cant, believe...|[cant, believe, v...|(1000,[26,194,275...|(1000,[26,194,275...|[11.9845194613992...|[0.99942669958479...|       0.0|\n",
            "|   18|I'll need *way* m...|Nonmisogynistic|Ill need way more...|Ill need way more...|  0.0|[ill, need, way, ...|[ill, need, way, ...|(1000,[86,248,391...|(1000,[86,248,391...|[9.43882791728831...|[0.96995156649307...|       0.0|\n",
            "|   20|Well now the secr...|Nonmisogynistic|Well now the secr...|Well now the secr...|  0.0|[well, now, the, ...|     [well, secrets]|(1000,[157,164],[...|(1000,[157,164],[...|[10.3227793861111...|[0.99584411655576...|       0.0|\n",
            "|   22|  r/ihadastroke ...?|Nonmisogynistic|       rihadastroke |        rihadastroke|  0.0|      [rihadastroke]|      [rihadastroke]|  (1000,[784],[1.0])|(1000,[784],[4.86...|[9.04956024161103...|[0.98390241351589...|       0.0|\n",
            "|   23|When you think it...|Nonmisogynistic|When you think it...|When you think it...|  0.0|[when, you, think...|[think, butter, s...|(1000,[159,335,39...|(1000,[159,335,39...|[12.5019650765522...|[0.99963864931141...|       0.0|\n",
            "|   33|at first i was re...|Nonmisogynistic|at first i was re...|at first i was re...|  0.0|[at, first, i, wa...|[first, really, s...|(1000,[38,85,112,...|(1000,[38,85,112,...|[15.5442051064299...|[0.99998735007496...|       0.0|\n",
            "|   35|Given that he wan...|Nonmisogynistic|Given that he wan...|Given that he wan...|  0.0|[given, that, he,...|[given, wants, as...|(1000,[35,49,237,...|(1000,[35,49,237,...|[13.9005449210822...|[0.99968432525005...|       0.0|\n",
            "|   36|My two favorite t...|Nonmisogynistic|My two favorite t...|My two favorite t...|  0.0|[my, two, favorit...|[two, favorite, t...|(1000,[70,74,86,2...|(1000,[70,74,86,2...|[10.3049441474457...|[0.97693086573746...|       0.0|\n",
            "|   42|\"Vogoncel\".That m...|Nonmisogynistic|VogoncelThat made...|VogoncelThat made...|  0.0|[vogoncelthat, ma...|[vogoncelthat, ma...|(1000,[3,98,344,3...|(1000,[3,98,344,3...|[14.5552044067948...|[0.99995768165593...|       0.0|\n",
            "|   47|But remember, the...|Nonmisogynistic|But remember thei...|But remember thei...|  0.0|[but, remember, t...|[remember, posts,...|(1000,[116,685,69...|(1000,[116,685,69...|[11.2299298219406...|[0.99871313240280...|       0.0|\n",
            "|   50|Like listening to...|Nonmisogynistic|Like listening to...|Like listening to...|  0.0|[like, listening,...|[like, listening,...|(1000,[66,134,330...|(1000,[66,134,330...|[13.0808107482649...|[0.99977103351158...|       0.0|\n",
            "|   51|God is the reason...|Nonmisogynistic|God is the reason...|God is the reason...|  0.0|[god, is, the, re...|[god, reason, per...|(1000,[150,234,40...|(1000,[150,234,40...|[11.9785706678101...|[0.99938194459183...|       0.0|\n",
            "|   52|Personally I'd sa...|Nonmisogynistic|Personally Id say...|Personally Id say...|  0.0|[personally, id, ...|[personally, id, ...|(1000,[146,234,26...|(1000,[146,234,26...|[15.9127750224608...|[0.99999128428258...|       0.0|\n",
            "|   56|Aren't you super ...|Nonmisogynistic|Arent you super h...|Arent you super h...|  0.0|[arent, you, supe...|[arent, super, hi...|(1000,[14,40,48,7...|(1000,[14,40,48,7...|[16.4075778775852...|[0.99999504649032...|       0.0|\n",
            "|   58|I'm personally an...|Nonmisogynistic|Im personally an ...|Im personally an ...|  0.0|[im, personally, ...|[im, personally, ...|(1000,[123,212,23...|(1000,[123,212,23...|[11.9300075095528...|[0.99936049808538...|       0.0|\n",
            "|   61|Yes.  Rights are ...|Nonmisogynistic|Yes  Rights are l...|Yes  Rights are l...|  0.0|[yes, , rights, a...|[yes, , rights, l...|(1000,[44,176,195...|(1000,[44,176,195...|[18.9193206469102...|[0.99999958670067...|       0.0|\n",
            "|   63|\"Oh, if only I ha...|Nonmisogynistic|Oh if only I had ...|Oh if only I had ...|  0.0|[oh, if, only, i,...|[oh, born, days, ...|(1000,[36,224,424...|(1000,[36,224,424...|[15.3927138528628...|[0.99998387411003...|       0.0|\n",
            "+-----+--------------------+---------------+--------------------+--------------------+-----+--------------------+--------------------+--------------------+--------------------+--------------------+--------------------+----------+\n",
            "only showing top 20 rows\n",
            "\n"
          ]
        }
      ]
    },
    {
      "cell_type": "code",
      "source": [
        "from pyspark.ml.evaluation import MulticlassClassificationEvaluator\n",
        "evaluator = MulticlassClassificationEvaluator(labelCol='label', predictionCol='prediction')"
      ],
      "metadata": {
        "id": "u4fALQPxSRgx"
      },
      "execution_count": null,
      "outputs": []
    },
    {
      "cell_type": "code",
      "source": [
        "print(\"Acuracia = %f\" % evaluator.evaluate(predictions_teste_logisticregression, {evaluator.metricName:'accuracy'}))\n",
        "print(\"Precisão = %f\" % evaluator.evaluate(predictions_teste_logisticregression, {evaluator.metricName:'precisionByLabel'}))\n",
        "print(\"Recall = %f\" % evaluator.evaluate(predictions_teste_logisticregression, {evaluator.metricName:'recallByLabel'}))\n",
        "print(\"F1 = %f\" % evaluator.evaluate(predictions_teste_logisticregression, {evaluator.metricName:'fMeasureByLabel'}))"
      ],
      "metadata": {
        "colab": {
          "base_uri": "https://localhost:8080/"
        },
        "id": "PlTkj7T9bmQe",
        "outputId": "f72cb917-61e1-415d-ead7-8355b82fc51d"
      },
      "execution_count": null,
      "outputs": [
        {
          "output_type": "stream",
          "name": "stdout",
          "text": [
            "Acuracia = 0.992997\n",
            "Precisão = 0.996072\n",
            "Recall = 1.000000\n",
            "F1 = 0.998032\n"
          ]
        }
      ]
    },
    {
      "cell_type": "code",
      "source": [
        "y_true = predictions_teste_logisticregression.select(['label']).collect()\n",
        "y_pred = predictions_teste_logisticregression.select(['prediction']).collect()\n",
        "\n",
        "from sklearn.metrics import classification_report, confusion_matrix\n",
        "print(confusion_matrix(y_true, y_pred))"
      ],
      "metadata": {
        "id": "iB8RVplzOYbz"
      },
      "execution_count": null,
      "outputs": []
    },
    {
      "cell_type": "code",
      "source": [
        "y_true = predictions_teste_logisticregression.select(['label']).collect()\n",
        "y_pred = predictions_teste_logisticregression.select(['prediction']).collect()\n",
        "\n",
        "from sklearn.metrics import classification_report, confusion_matrix\n",
        "print(classification_report(y_true, y_pred))"
      ],
      "metadata": {
        "colab": {
          "base_uri": "https://localhost:8080/"
        },
        "id": "9Xrcry3bOKgb",
        "outputId": "6d95c97b-f400-4f22-a82a-fe2f0fccc405"
      },
      "execution_count": null,
      "outputs": [
        {
          "output_type": "stream",
          "name": "stdout",
          "text": [
            "              precision    recall  f1-score   support\n",
            "\n",
            "         0.0       1.00      1.00      1.00      1268\n",
            "         1.0       1.00      0.99      0.99        95\n",
            "         2.0       0.88      0.95      0.91        38\n",
            "         3.0       1.00      1.00      1.00         1\n",
            "         4.0       1.00      1.00      1.00         1\n",
            "         6.0       1.00      1.00      1.00         2\n",
            "         9.0       1.00      1.00      1.00         1\n",
            "        10.0       1.00      1.00      1.00         2\n",
            "        11.0       1.00      1.00      1.00         1\n",
            "        12.0       1.00      1.00      1.00         1\n",
            "        13.0       1.00      1.00      1.00         2\n",
            "        16.0       0.00      0.00      0.00         1\n",
            "        18.0       1.00      1.00      1.00         1\n",
            "        23.0       1.00      1.00      1.00         1\n",
            "        24.0       1.00      1.00      1.00         1\n",
            "        26.0       1.00      1.00      1.00         1\n",
            "        29.0       1.00      1.00      1.00         1\n",
            "        40.0       1.00      1.00      1.00         1\n",
            "        42.0       0.00      0.00      0.00         1\n",
            "        43.0       0.00      0.00      0.00         1\n",
            "        52.0       1.00      1.00      1.00         1\n",
            "        56.0       1.00      1.00      1.00         1\n",
            "        57.0       1.00      1.00      1.00         1\n",
            "        60.0       0.00      0.00      0.00         1\n",
            "        62.0       0.00      0.00      0.00         1\n",
            "        70.0       0.00      0.00      0.00         1\n",
            "        76.0       0.00      0.00      0.00         1\n",
            "\n",
            "    accuracy                           0.99      1428\n",
            "   macro avg       0.74      0.74      0.74      1428\n",
            "weighted avg       0.99      0.99      0.99      1428\n",
            "\n"
          ]
        },
        {
          "output_type": "stream",
          "name": "stderr",
          "text": [
            "/usr/local/lib/python3.7/dist-packages/sklearn/metrics/_classification.py:1318: UndefinedMetricWarning: Precision and F-score are ill-defined and being set to 0.0 in labels with no predicted samples. Use `zero_division` parameter to control this behavior.\n",
            "  _warn_prf(average, modifier, msg_start, len(result))\n",
            "/usr/local/lib/python3.7/dist-packages/sklearn/metrics/_classification.py:1318: UndefinedMetricWarning: Precision and F-score are ill-defined and being set to 0.0 in labels with no predicted samples. Use `zero_division` parameter to control this behavior.\n",
            "  _warn_prf(average, modifier, msg_start, len(result))\n",
            "/usr/local/lib/python3.7/dist-packages/sklearn/metrics/_classification.py:1318: UndefinedMetricWarning: Precision and F-score are ill-defined and being set to 0.0 in labels with no predicted samples. Use `zero_division` parameter to control this behavior.\n",
            "  _warn_prf(average, modifier, msg_start, len(result))\n"
          ]
        }
      ]
    },
    {
      "cell_type": "markdown",
      "source": [
        "Naive Bayes\n"
      ],
      "metadata": {
        "id": "Dow7yYdevpO6"
      }
    },
    {
      "cell_type": "code",
      "source": [
        "from pyspark.ml.classification import NaiveBayes\n",
        "\n",
        "tokenizer = Tokenizer(inputCol=\"texto_limpo\", outputCol=\"tokens\")\n",
        "stopwords = StopWordsRemover(inputCol=\"tokens\", outputCol=\"texto_final\")\n",
        "hashingTF = HashingTF(inputCol=stopwords.getOutputCol(), outputCol=\"HTF\", numFeatures=1000)\n",
        "tfidf = IDF(inputCol=\"HTF\", outputCol=\"features\")\n",
        "nb = NaiveBayes(featuresCol='features', labelCol='label', smoothing=1.0, modelType=\"multinomial\")\n",
        "\n",
        "pipeline_naive = Pipeline(stages=[tokenizer, stopwords, hashingTF, tfidf,nb])"
      ],
      "metadata": {
        "id": "UaGco74evs3R"
      },
      "execution_count": null,
      "outputs": []
    },
    {
      "cell_type": "code",
      "source": [
        "naive_model_treino = pipeline_naive.fit(train)\n",
        "predictions_treino_naive = naive_model_treino.transform(train)"
      ],
      "metadata": {
        "id": "b82x8GMzv4Yx"
      },
      "execution_count": null,
      "outputs": []
    },
    {
      "cell_type": "code",
      "source": [
        "naive_model_teste = pipeline_naive.fit(test)\n",
        "predictions_teste_naive = naive_model_teste.transform(test)"
      ],
      "metadata": {
        "id": "1Orp6P7Jv5eB"
      },
      "execution_count": null,
      "outputs": []
    },
    {
      "cell_type": "code",
      "source": [
        "predictions_teste_naive.show()"
      ],
      "metadata": {
        "colab": {
          "base_uri": "https://localhost:8080/"
        },
        "id": "KotWvVFCv6qQ",
        "outputId": "0e2e0efe-0554-419a-f39b-a1fb42e401c2"
      },
      "execution_count": null,
      "outputs": [
        {
          "output_type": "stream",
          "name": "stdout",
          "text": [
            "+-----+--------------------+---------------+--------------------+--------------------+-----+--------------------+--------------------+--------------------+--------------------+--------------------+--------------------+----------+\n",
            "|index|                body|        level_1|         texto_regex|         texto_limpo|label|              tokens|         texto_final|                 HTF|            features|       rawPrediction|         probability|prediction|\n",
            "+-----+--------------------+---------------+--------------------+--------------------+-----+--------------------+--------------------+--------------------+--------------------+--------------------+--------------------+----------+\n",
            "|    4|Some places have ...|Nonmisogynistic|Some places have ...|Some places have ...|  0.0|[some, places, ha...|[places, poor, wa...|(1000,[103,160,19...|(1000,[103,160,19...|[-354.81686500356...|[0.87968389819137...|       0.0|\n",
            "|    5|So if I drink eno...|Nonmisogynistic|So if I drink eno...|So if I drink eno...|  0.0|[so, if, i, drink...|[drink, enough, w...|(1000,[292,348,58...|(1000,[292,348,58...|[-150.82901522822...|[0.99984483058825...|       0.0|\n",
            "|   14|     Virgina Spread |Nonmisogynistic|     Virgina Spread |      Virgina Spread|  0.0|   [virgina, spread]|   [virgina, spread]|(1000,[194,275],[...|(1000,[194,275],[...|[-71.182343806802...|[0.84743295037266...|       0.0|\n",
            "|   15|*I can't believe ...|Nonmisogynistic|I cant believe it...|I cant believe it...|  0.0|[i, cant, believe...|[cant, believe, v...|(1000,[26,194,275...|(1000,[26,194,275...|[-138.89799433784...|[0.99969970988603...|       0.0|\n",
            "|   18|I'll need *way* m...|Nonmisogynistic|Ill need way more...|Ill need way more...|  0.0|[ill, need, way, ...|[ill, need, way, ...|(1000,[86,248,391...|(1000,[86,248,391...|[-145.98512097441...|[0.99699500656157...|       0.0|\n",
            "|   20|Well now the secr...|Nonmisogynistic|Well now the secr...|Well now the secr...|  0.0|[well, now, the, ...|     [well, secrets]|(1000,[157,164],[...|(1000,[157,164],[...|[-49.390783086151...|[0.99937092215289...|       0.0|\n",
            "|   22|  r/ihadastroke ...?|Nonmisogynistic|       rihadastroke |        rihadastroke|  0.0|      [rihadastroke]|      [rihadastroke]|  (1000,[784],[1.0])|(1000,[784],[4.86...|[-33.907169309211...|[0.90655061592920...|       0.0|\n",
            "|   23|When you think it...|Nonmisogynistic|When you think it...|When you think it...|  0.0|[when, you, think...|[think, butter, s...|(1000,[159,335,39...|(1000,[159,335,39...|[-113.01633413196...|[5.33702266337925...|       5.0|\n",
            "|   33|at first i was re...|Nonmisogynistic|at first i was re...|at first i was re...|  0.0|[at, first, i, wa...|[first, really, s...|(1000,[38,85,112,...|(1000,[38,85,112,...|[-179.64094998468...|[0.99996030833648...|       0.0|\n",
            "|   35|Given that he wan...|Nonmisogynistic|Given that he wan...|Given that he wan...|  0.0|[given, that, he,...|[given, wants, as...|(1000,[35,49,237,...|(1000,[35,49,237,...|[-358.29412384561...|[0.97877744132821...|       0.0|\n",
            "|   36|My two favorite t...|Nonmisogynistic|My two favorite t...|My two favorite t...|  0.0|[my, two, favorit...|[two, favorite, t...|(1000,[70,74,86,2...|(1000,[70,74,86,2...|[-349.49053163997...|[0.99999999864169...|       0.0|\n",
            "|   42|\"Vogoncel\".That m...|Nonmisogynistic|VogoncelThat made...|VogoncelThat made...|  0.0|[vogoncelthat, ma...|[vogoncelthat, ma...|(1000,[3,98,344,3...|(1000,[3,98,344,3...|[-135.89179896368...|[0.99998835913361...|       0.0|\n",
            "|   47|But remember, the...|Nonmisogynistic|But remember thei...|But remember thei...|  0.0|[but, remember, t...|[remember, posts,...|(1000,[116,685,69...|(1000,[116,685,69...|[-103.13041408264...|[0.99997363434298...|       0.0|\n",
            "|   50|Like listening to...|Nonmisogynistic|Like listening to...|Like listening to...|  0.0|[like, listening,...|[like, listening,...|(1000,[66,134,330...|(1000,[66,134,330...|[-176.79310294991...|[0.97812302941565...|       0.0|\n",
            "|   51|God is the reason...|Nonmisogynistic|God is the reason...|God is the reason...|  0.0|[god, is, the, re...|[god, reason, per...|(1000,[150,234,40...|(1000,[150,234,40...|[-132.05952158932...|[0.99999889094143...|       0.0|\n",
            "|   52|Personally I'd sa...|Nonmisogynistic|Personally Id say...|Personally Id say...|  0.0|[personally, id, ...|[personally, id, ...|(1000,[146,234,26...|(1000,[146,234,26...|[-236.04118245997...|[0.99999999862589...|       0.0|\n",
            "|   56|Aren't you super ...|Nonmisogynistic|Arent you super h...|Arent you super h...|  0.0|[arent, you, supe...|[arent, super, hi...|(1000,[14,40,48,7...|(1000,[14,40,48,7...|[-403.39820643089...|[0.99999970678808...|       0.0|\n",
            "|   58|I'm personally an...|Nonmisogynistic|Im personally an ...|Im personally an ...|  0.0|[im, personally, ...|[im, personally, ...|(1000,[123,212,23...|(1000,[123,212,23...|[-567.06172997988...|[0.99999999999702...|       0.0|\n",
            "|   61|Yes.  Rights are ...|Nonmisogynistic|Yes  Rights are l...|Yes  Rights are l...|  0.0|[yes, , rights, a...|[yes, , rights, l...|(1000,[44,176,195...|(1000,[44,176,195...|[-187.35789009368...|[0.99999482327285...|       0.0|\n",
            "|   63|\"Oh, if only I ha...|Nonmisogynistic|Oh if only I had ...|Oh if only I had ...|  0.0|[oh, if, only, i,...|[oh, born, days, ...|(1000,[36,224,424...|(1000,[36,224,424...|[-164.74055284760...|[0.99997494163703...|       0.0|\n",
            "+-----+--------------------+---------------+--------------------+--------------------+-----+--------------------+--------------------+--------------------+--------------------+--------------------+--------------------+----------+\n",
            "only showing top 20 rows\n",
            "\n"
          ]
        }
      ]
    },
    {
      "cell_type": "code",
      "source": [
        "print(\"Acuracia = %f\" % evaluator.evaluate(predictions_teste_naive, {evaluator.metricName:'accuracy'}))\n",
        "print(\"Precisão = %f\" % evaluator.evaluate(predictions_teste_naive, {evaluator.metricName:'precisionByLabel'}))\n",
        "print(\"Recall = %f\" % evaluator.evaluate(predictions_teste_naive, {evaluator.metricName:'recallByLabel'}))\n",
        "print(\"F1 = %f\" % evaluator.evaluate(predictions_teste_naive, {evaluator.metricName:'fMeasureByLabel'}))"
      ],
      "metadata": {
        "colab": {
          "base_uri": "https://localhost:8080/"
        },
        "id": "ykDmeLdsv7o_",
        "outputId": "cacf6d9a-6433-4030-b035-89c98f9a0cb3"
      },
      "execution_count": null,
      "outputs": [
        {
          "output_type": "stream",
          "name": "stdout",
          "text": [
            "Acuracia = 0.815126\n",
            "Precisão = 0.990431\n",
            "Recall = 0.816246\n",
            "F1 = 0.894942\n"
          ]
        }
      ]
    },
    {
      "cell_type": "markdown",
      "source": [
        "Continuação utilizando Scikit-learn"
      ],
      "metadata": {
        "id": "rd0f8JOd4Rou"
      }
    },
    {
      "cell_type": "code",
      "source": [
        "import pandas as pd\n",
        "from sklearn.feature_extraction.text import CountVectorizer, TfidfTransformer\n",
        "from sklearn.svm import LinearSVC\n",
        "from sklearn.pipeline import Pipeline\n",
        "from sklearn.base import BaseEstimator, TransformerMixin\n",
        "from sklearn.model_selection import train_test_split\n",
        "from sklearn import metrics"
      ],
      "metadata": {
        "id": "wm_LGgCW4jDO"
      },
      "execution_count": null,
      "outputs": []
    },
    {
      "cell_type": "code",
      "source": [
        "dataset = pd.read_csv(\"/content/drive/MyDrive/TCC_BANCOS/online-misogyny-eacl2021-main/data/final_labels.csv\")"
      ],
      "metadata": {
        "id": "0IolD8-W4sId"
      },
      "execution_count": null,
      "outputs": []
    },
    {
      "cell_type": "code",
      "source": [
        "dataset=dataset[['body','level_1']]\n",
        "dataset.head()"
      ],
      "metadata": {
        "colab": {
          "base_uri": "https://localhost:8080/",
          "height": 206
        },
        "id": "KMsKx9py9Ht1",
        "outputId": "6cca652a-d876-4734-de3d-38f2625cad50"
      },
      "execution_count": null,
      "outputs": [
        {
          "output_type": "execute_result",
          "data": {
            "text/plain": [
              "                                                body          level_1\n",
              "0  Do you have the skin of a 80 year old grandma?...  Nonmisogynistic\n",
              "1  This is taking a grain of truth and extrapolat...  Nonmisogynistic\n",
              "2  Honestly my favorite thing about this is that ...  Nonmisogynistic\n",
              "3               Source? Doesnt sound right to me idk  Nonmisogynistic\n",
              "4  Damn, I saw a movie in which the old woman bat...     Misogynistic"
            ],
            "text/html": [
              "\n",
              "  <div id=\"df-d737c4db-ccf2-48d3-86fa-38b51d41f5c2\">\n",
              "    <div class=\"colab-df-container\">\n",
              "      <div>\n",
              "<style scoped>\n",
              "    .dataframe tbody tr th:only-of-type {\n",
              "        vertical-align: middle;\n",
              "    }\n",
              "\n",
              "    .dataframe tbody tr th {\n",
              "        vertical-align: top;\n",
              "    }\n",
              "\n",
              "    .dataframe thead th {\n",
              "        text-align: right;\n",
              "    }\n",
              "</style>\n",
              "<table border=\"1\" class=\"dataframe\">\n",
              "  <thead>\n",
              "    <tr style=\"text-align: right;\">\n",
              "      <th></th>\n",
              "      <th>body</th>\n",
              "      <th>level_1</th>\n",
              "    </tr>\n",
              "  </thead>\n",
              "  <tbody>\n",
              "    <tr>\n",
              "      <th>0</th>\n",
              "      <td>Do you have the skin of a 80 year old grandma?...</td>\n",
              "      <td>Nonmisogynistic</td>\n",
              "    </tr>\n",
              "    <tr>\n",
              "      <th>1</th>\n",
              "      <td>This is taking a grain of truth and extrapolat...</td>\n",
              "      <td>Nonmisogynistic</td>\n",
              "    </tr>\n",
              "    <tr>\n",
              "      <th>2</th>\n",
              "      <td>Honestly my favorite thing about this is that ...</td>\n",
              "      <td>Nonmisogynistic</td>\n",
              "    </tr>\n",
              "    <tr>\n",
              "      <th>3</th>\n",
              "      <td>Source? Doesnt sound right to me idk</td>\n",
              "      <td>Nonmisogynistic</td>\n",
              "    </tr>\n",
              "    <tr>\n",
              "      <th>4</th>\n",
              "      <td>Damn, I saw a movie in which the old woman bat...</td>\n",
              "      <td>Misogynistic</td>\n",
              "    </tr>\n",
              "  </tbody>\n",
              "</table>\n",
              "</div>\n",
              "      <button class=\"colab-df-convert\" onclick=\"convertToInteractive('df-d737c4db-ccf2-48d3-86fa-38b51d41f5c2')\"\n",
              "              title=\"Convert this dataframe to an interactive table.\"\n",
              "              style=\"display:none;\">\n",
              "        \n",
              "  <svg xmlns=\"http://www.w3.org/2000/svg\" height=\"24px\"viewBox=\"0 0 24 24\"\n",
              "       width=\"24px\">\n",
              "    <path d=\"M0 0h24v24H0V0z\" fill=\"none\"/>\n",
              "    <path d=\"M18.56 5.44l.94 2.06.94-2.06 2.06-.94-2.06-.94-.94-2.06-.94 2.06-2.06.94zm-11 1L8.5 8.5l.94-2.06 2.06-.94-2.06-.94L8.5 2.5l-.94 2.06-2.06.94zm10 10l.94 2.06.94-2.06 2.06-.94-2.06-.94-.94-2.06-.94 2.06-2.06.94z\"/><path d=\"M17.41 7.96l-1.37-1.37c-.4-.4-.92-.59-1.43-.59-.52 0-1.04.2-1.43.59L10.3 9.45l-7.72 7.72c-.78.78-.78 2.05 0 2.83L4 21.41c.39.39.9.59 1.41.59.51 0 1.02-.2 1.41-.59l7.78-7.78 2.81-2.81c.8-.78.8-2.07 0-2.86zM5.41 20L4 18.59l7.72-7.72 1.47 1.35L5.41 20z\"/>\n",
              "  </svg>\n",
              "      </button>\n",
              "      \n",
              "  <style>\n",
              "    .colab-df-container {\n",
              "      display:flex;\n",
              "      flex-wrap:wrap;\n",
              "      gap: 12px;\n",
              "    }\n",
              "\n",
              "    .colab-df-convert {\n",
              "      background-color: #E8F0FE;\n",
              "      border: none;\n",
              "      border-radius: 50%;\n",
              "      cursor: pointer;\n",
              "      display: none;\n",
              "      fill: #1967D2;\n",
              "      height: 32px;\n",
              "      padding: 0 0 0 0;\n",
              "      width: 32px;\n",
              "    }\n",
              "\n",
              "    .colab-df-convert:hover {\n",
              "      background-color: #E2EBFA;\n",
              "      box-shadow: 0px 1px 2px rgba(60, 64, 67, 0.3), 0px 1px 3px 1px rgba(60, 64, 67, 0.15);\n",
              "      fill: #174EA6;\n",
              "    }\n",
              "\n",
              "    [theme=dark] .colab-df-convert {\n",
              "      background-color: #3B4455;\n",
              "      fill: #D2E3FC;\n",
              "    }\n",
              "\n",
              "    [theme=dark] .colab-df-convert:hover {\n",
              "      background-color: #434B5C;\n",
              "      box-shadow: 0px 1px 3px 1px rgba(0, 0, 0, 0.15);\n",
              "      filter: drop-shadow(0px 1px 2px rgba(0, 0, 0, 0.3));\n",
              "      fill: #FFFFFF;\n",
              "    }\n",
              "  </style>\n",
              "\n",
              "      <script>\n",
              "        const buttonEl =\n",
              "          document.querySelector('#df-d737c4db-ccf2-48d3-86fa-38b51d41f5c2 button.colab-df-convert');\n",
              "        buttonEl.style.display =\n",
              "          google.colab.kernel.accessAllowed ? 'block' : 'none';\n",
              "\n",
              "        async function convertToInteractive(key) {\n",
              "          const element = document.querySelector('#df-d737c4db-ccf2-48d3-86fa-38b51d41f5c2');\n",
              "          const dataTable =\n",
              "            await google.colab.kernel.invokeFunction('convertToInteractive',\n",
              "                                                     [key], {});\n",
              "          if (!dataTable) return;\n",
              "\n",
              "          const docLinkHtml = 'Like what you see? Visit the ' +\n",
              "            '<a target=\"_blank\" href=https://colab.research.google.com/notebooks/data_table.ipynb>data table notebook</a>'\n",
              "            + ' to learn more about interactive tables.';\n",
              "          element.innerHTML = '';\n",
              "          dataTable['output_type'] = 'display_data';\n",
              "          await google.colab.output.renderOutput(dataTable, element);\n",
              "          const docLink = document.createElement('div');\n",
              "          docLink.innerHTML = docLinkHtml;\n",
              "          element.appendChild(docLink);\n",
              "        }\n",
              "      </script>\n",
              "    </div>\n",
              "  </div>\n",
              "  "
            ]
          },
          "metadata": {},
          "execution_count": 85
        }
      ]
    },
    {
      "cell_type": "code",
      "source": [
        "dataset.isnull().sum()"
      ],
      "metadata": {
        "colab": {
          "base_uri": "https://localhost:8080/"
        },
        "id": "p7Jd8OuuUad-",
        "outputId": "f30b7bba-794c-4379-c27e-1797477e78a9"
      },
      "execution_count": null,
      "outputs": [
        {
          "output_type": "execute_result",
          "data": {
            "text/plain": [
              "body       12\n",
              "level_1     0\n",
              "dtype: int64"
            ]
          },
          "metadata": {},
          "execution_count": 86
        }
      ]
    },
    {
      "cell_type": "code",
      "source": [
        "\n",
        "dataset.dropna(inplace=True)"
      ],
      "metadata": {
        "id": "cWJjaDozVmm2"
      },
      "execution_count": null,
      "outputs": []
    },
    {
      "cell_type": "code",
      "source": [
        "dataset.isnull().sum()"
      ],
      "metadata": {
        "colab": {
          "base_uri": "https://localhost:8080/"
        },
        "id": "NfR6rXwmVupH",
        "outputId": "74ae0791-4632-4796-89d2-514d8914ecd3"
      },
      "execution_count": null,
      "outputs": [
        {
          "output_type": "execute_result",
          "data": {
            "text/plain": [
              "body       0\n",
              "level_1    0\n",
              "dtype: int64"
            ]
          },
          "metadata": {},
          "execution_count": 88
        }
      ]
    },
    {
      "cell_type": "code",
      "source": [
        "dataset.dtypes"
      ],
      "metadata": {
        "colab": {
          "base_uri": "https://localhost:8080/"
        },
        "id": "lQUl32lm87T2",
        "outputId": "53ae5477-09e0-4d71-a7c3-dccb7272a058"
      },
      "execution_count": null,
      "outputs": [
        {
          "output_type": "execute_result",
          "data": {
            "text/plain": [
              "body       object\n",
              "level_1    object\n",
              "dtype: object"
            ]
          },
          "metadata": {},
          "execution_count": 89
        }
      ]
    },
    {
      "cell_type": "code",
      "source": [
        "dataset.groupby('level_1')['level_1'].count()"
      ],
      "metadata": {
        "colab": {
          "base_uri": "https://localhost:8080/"
        },
        "id": "v0sgd00_4w0T",
        "outputId": "91733d10-ee5e-40f1-b6c7-889b340689f5"
      },
      "execution_count": null,
      "outputs": [
        {
          "output_type": "execute_result",
          "data": {
            "text/plain": [
              "level_1\n",
              "Misogynistic        699\n",
              "Nonmisogynistic    5856\n",
              "Name: level_1, dtype: int64"
            ]
          },
          "metadata": {},
          "execution_count": 90
        }
      ]
    },
    {
      "cell_type": "code",
      "source": [
        "dataset['body'] = dataset['body'].astype(str)"
      ],
      "metadata": {
        "id": "0nsoOXsD9QOl"
      },
      "execution_count": null,
      "outputs": []
    },
    {
      "cell_type": "code",
      "source": [
        "a_trocar = {\n",
        "    'Nonmisogynistic': 0,\n",
        "    'Misogynistic': 1\n",
        "}\n",
        "dataset.level_1 = dataset.level_1.map(a_trocar)\n",
        "dataset.head()"
      ],
      "metadata": {
        "colab": {
          "base_uri": "https://localhost:8080/",
          "height": 206
        },
        "id": "fuCWjLJ-8eAV",
        "outputId": "34e12cc6-e390-4312-9c4d-93a728ff2334"
      },
      "execution_count": null,
      "outputs": [
        {
          "output_type": "execute_result",
          "data": {
            "text/plain": [
              "                                                body  level_1\n",
              "0  Do you have the skin of a 80 year old grandma?...        0\n",
              "1  This is taking a grain of truth and extrapolat...        0\n",
              "2  Honestly my favorite thing about this is that ...        0\n",
              "3               Source? Doesnt sound right to me idk        0\n",
              "4  Damn, I saw a movie in which the old woman bat...        1"
            ],
            "text/html": [
              "\n",
              "  <div id=\"df-7495e172-5d5a-41b3-8094-e68e14eb94b0\">\n",
              "    <div class=\"colab-df-container\">\n",
              "      <div>\n",
              "<style scoped>\n",
              "    .dataframe tbody tr th:only-of-type {\n",
              "        vertical-align: middle;\n",
              "    }\n",
              "\n",
              "    .dataframe tbody tr th {\n",
              "        vertical-align: top;\n",
              "    }\n",
              "\n",
              "    .dataframe thead th {\n",
              "        text-align: right;\n",
              "    }\n",
              "</style>\n",
              "<table border=\"1\" class=\"dataframe\">\n",
              "  <thead>\n",
              "    <tr style=\"text-align: right;\">\n",
              "      <th></th>\n",
              "      <th>body</th>\n",
              "      <th>level_1</th>\n",
              "    </tr>\n",
              "  </thead>\n",
              "  <tbody>\n",
              "    <tr>\n",
              "      <th>0</th>\n",
              "      <td>Do you have the skin of a 80 year old grandma?...</td>\n",
              "      <td>0</td>\n",
              "    </tr>\n",
              "    <tr>\n",
              "      <th>1</th>\n",
              "      <td>This is taking a grain of truth and extrapolat...</td>\n",
              "      <td>0</td>\n",
              "    </tr>\n",
              "    <tr>\n",
              "      <th>2</th>\n",
              "      <td>Honestly my favorite thing about this is that ...</td>\n",
              "      <td>0</td>\n",
              "    </tr>\n",
              "    <tr>\n",
              "      <th>3</th>\n",
              "      <td>Source? Doesnt sound right to me idk</td>\n",
              "      <td>0</td>\n",
              "    </tr>\n",
              "    <tr>\n",
              "      <th>4</th>\n",
              "      <td>Damn, I saw a movie in which the old woman bat...</td>\n",
              "      <td>1</td>\n",
              "    </tr>\n",
              "  </tbody>\n",
              "</table>\n",
              "</div>\n",
              "      <button class=\"colab-df-convert\" onclick=\"convertToInteractive('df-7495e172-5d5a-41b3-8094-e68e14eb94b0')\"\n",
              "              title=\"Convert this dataframe to an interactive table.\"\n",
              "              style=\"display:none;\">\n",
              "        \n",
              "  <svg xmlns=\"http://www.w3.org/2000/svg\" height=\"24px\"viewBox=\"0 0 24 24\"\n",
              "       width=\"24px\">\n",
              "    <path d=\"M0 0h24v24H0V0z\" fill=\"none\"/>\n",
              "    <path d=\"M18.56 5.44l.94 2.06.94-2.06 2.06-.94-2.06-.94-.94-2.06-.94 2.06-2.06.94zm-11 1L8.5 8.5l.94-2.06 2.06-.94-2.06-.94L8.5 2.5l-.94 2.06-2.06.94zm10 10l.94 2.06.94-2.06 2.06-.94-2.06-.94-.94-2.06-.94 2.06-2.06.94z\"/><path d=\"M17.41 7.96l-1.37-1.37c-.4-.4-.92-.59-1.43-.59-.52 0-1.04.2-1.43.59L10.3 9.45l-7.72 7.72c-.78.78-.78 2.05 0 2.83L4 21.41c.39.39.9.59 1.41.59.51 0 1.02-.2 1.41-.59l7.78-7.78 2.81-2.81c.8-.78.8-2.07 0-2.86zM5.41 20L4 18.59l7.72-7.72 1.47 1.35L5.41 20z\"/>\n",
              "  </svg>\n",
              "      </button>\n",
              "      \n",
              "  <style>\n",
              "    .colab-df-container {\n",
              "      display:flex;\n",
              "      flex-wrap:wrap;\n",
              "      gap: 12px;\n",
              "    }\n",
              "\n",
              "    .colab-df-convert {\n",
              "      background-color: #E8F0FE;\n",
              "      border: none;\n",
              "      border-radius: 50%;\n",
              "      cursor: pointer;\n",
              "      display: none;\n",
              "      fill: #1967D2;\n",
              "      height: 32px;\n",
              "      padding: 0 0 0 0;\n",
              "      width: 32px;\n",
              "    }\n",
              "\n",
              "    .colab-df-convert:hover {\n",
              "      background-color: #E2EBFA;\n",
              "      box-shadow: 0px 1px 2px rgba(60, 64, 67, 0.3), 0px 1px 3px 1px rgba(60, 64, 67, 0.15);\n",
              "      fill: #174EA6;\n",
              "    }\n",
              "\n",
              "    [theme=dark] .colab-df-convert {\n",
              "      background-color: #3B4455;\n",
              "      fill: #D2E3FC;\n",
              "    }\n",
              "\n",
              "    [theme=dark] .colab-df-convert:hover {\n",
              "      background-color: #434B5C;\n",
              "      box-shadow: 0px 1px 3px 1px rgba(0, 0, 0, 0.15);\n",
              "      filter: drop-shadow(0px 1px 2px rgba(0, 0, 0, 0.3));\n",
              "      fill: #FFFFFF;\n",
              "    }\n",
              "  </style>\n",
              "\n",
              "      <script>\n",
              "        const buttonEl =\n",
              "          document.querySelector('#df-7495e172-5d5a-41b3-8094-e68e14eb94b0 button.colab-df-convert');\n",
              "        buttonEl.style.display =\n",
              "          google.colab.kernel.accessAllowed ? 'block' : 'none';\n",
              "\n",
              "        async function convertToInteractive(key) {\n",
              "          const element = document.querySelector('#df-7495e172-5d5a-41b3-8094-e68e14eb94b0');\n",
              "          const dataTable =\n",
              "            await google.colab.kernel.invokeFunction('convertToInteractive',\n",
              "                                                     [key], {});\n",
              "          if (!dataTable) return;\n",
              "\n",
              "          const docLinkHtml = 'Like what you see? Visit the ' +\n",
              "            '<a target=\"_blank\" href=https://colab.research.google.com/notebooks/data_table.ipynb>data table notebook</a>'\n",
              "            + ' to learn more about interactive tables.';\n",
              "          element.innerHTML = '';\n",
              "          dataTable['output_type'] = 'display_data';\n",
              "          await google.colab.output.renderOutput(dataTable, element);\n",
              "          const docLink = document.createElement('div');\n",
              "          docLink.innerHTML = docLinkHtml;\n",
              "          element.appendChild(docLink);\n",
              "        }\n",
              "      </script>\n",
              "    </div>\n",
              "  </div>\n",
              "  "
            ]
          },
          "metadata": {},
          "execution_count": 92
        }
      ]
    },
    {
      "cell_type": "code",
      "source": [
        "class TColumns(BaseEstimator, TransformerMixin):\n",
        "\n",
        "  def fit(self, X, y=None):\n",
        "    return self\n",
        "\n",
        "  def transform(self, X):\n",
        "\n",
        "    dataset = X.copy()\n",
        "    dataset['body'] = dataset['body'].str.replace('[,.:;!?]+', ' ', regex=True).copy()\n",
        "    dataset['body'] = dataset['body'].str.replace('[/<>()|\\+\\-\\$%&#@\\'\\\"]+', ' ', regex=True).copy()\n",
        "    dataset['body'] = dataset['body'].str.replace('[0-9]+', '', regex=True)\n",
        "\n",
        "    return dataset.body"
      ],
      "metadata": {
        "id": "1c4TKec74-8M"
      },
      "execution_count": null,
      "outputs": []
    },
    {
      "cell_type": "markdown",
      "source": [
        "KNN (K-nearest neighbours)\n"
      ],
      "metadata": {
        "id": "Oj--DjDrICYw"
      }
    },
    {
      "cell_type": "code",
      "source": [
        "from sklearn.neighbors import KNeighborsClassifier"
      ],
      "metadata": {
        "id": "t8ZClU34DYwg"
      },
      "execution_count": null,
      "outputs": []
    },
    {
      "cell_type": "code",
      "source": [
        "tco = TColumns()\n",
        " \n",
        "cvt = CountVectorizer(strip_accents='ascii', lowercase=True, stop_words=stop)\n",
        " \n",
        "tfi = TfidfTransformer(use_idf=True)\n",
        " \n",
        "knn = KNeighborsClassifier(n_neighbors=3)\n",
        " \n",
        "knn_pipeline = Pipeline(steps=[('Transformer', tco),\n",
        "                              ('CountVectorizer', cvt),\n",
        "                              ('TfidfTransformer', tfi),\n",
        "                              ('Model', knn)])"
      ],
      "metadata": {
        "id": "Nmbz8Za05Thl"
      },
      "execution_count": null,
      "outputs": []
    },
    {
      "cell_type": "code",
      "source": [
        "entrada = dataset[['body']]\n",
        "saida = dataset['level_1']\n",
        "X_train, X_test, y_train, y_test = train_test_split(entrada, \n",
        "                                                    saida, \n",
        "                                                    test_size=0.3)\n",
        "knn_pipeline.fit(X_train, y_train)"
      ],
      "metadata": {
        "colab": {
          "base_uri": "https://localhost:8080/"
        },
        "id": "6j7c_q3y5ZV9",
        "outputId": "1a70f176-0b39-4abc-a05b-f822e25a5322"
      },
      "execution_count": null,
      "outputs": [
        {
          "output_type": "stream",
          "name": "stderr",
          "text": [
            "/usr/local/lib/python3.7/dist-packages/sklearn/feature_extraction/text.py:401: UserWarning: Your stop_words may be inconsistent with your preprocessing. Tokenizing the stop words generated tokens ['aren', 'couldn', 'didn', 'doesn', 'hadn', 'hasn', 'haven', 'isn', 'let', 'll', 'mustn', 're', 'shan', 'shouldn', 've', 'wasn', 'weren', 'won', 'wouldn'] not in stop_words.\n",
            "  % sorted(inconsistent)\n"
          ]
        },
        {
          "output_type": "execute_result",
          "data": {
            "text/plain": [
              "Pipeline(steps=[('Transformer', TColumns()),\n",
              "                ('CountVectorizer',\n",
              "                 CountVectorizer(stop_words=['i', 'me', 'my', 'myself', 'we',\n",
              "                                             'our', 'ours', 'ourselves', 'you',\n",
              "                                             'your', 'yours', 'yourself',\n",
              "                                             'yourselves', 'he', 'him', 'his',\n",
              "                                             'himself', 'she', 'her', 'hers',\n",
              "                                             'herself', 'it', 'its', 'itself',\n",
              "                                             'they', 'them', 'their', 'theirs',\n",
              "                                             'themselves', 'what', ...],\n",
              "                                 strip_accents='ascii')),\n",
              "                ('TfidfTransformer', TfidfTransformer()),\n",
              "                ('Model', KNeighborsClassifier(n_neighbors=3))])"
            ]
          },
          "metadata": {},
          "execution_count": 96
        }
      ]
    },
    {
      "cell_type": "code",
      "source": [
        "predictions_teste_knn = knn_pipeline.predict(X_test)"
      ],
      "metadata": {
        "id": "wPdzTm7mNBEj"
      },
      "execution_count": null,
      "outputs": []
    },
    {
      "cell_type": "code",
      "source": [
        "print(\"Acurácia: {}\".format(metrics.accuracy_score(y_test, predictions_teste_knn)))\n",
        "print(\"Precision: {}\".format(metrics.precision_score(y_test, predictions_teste_knn)))\n",
        "print(\"Recall: {}\".format(metrics.recall_score(y_test, predictions_teste_knn)))\n",
        "print(\"F1: {}\".format(metrics.f1_score(y_test, predictions_teste_knn)))"
      ],
      "metadata": {
        "colab": {
          "base_uri": "https://localhost:8080/"
        },
        "id": "fWBpXNxdMMES",
        "outputId": "bc782f40-292f-4158-c072-bc5951e98ced"
      },
      "execution_count": null,
      "outputs": [
        {
          "output_type": "stream",
          "name": "stdout",
          "text": [
            "Acurácia: 0.9201830198271479\n",
            "Precision: 0.972972972972973\n",
            "Recall: 0.1875\n",
            "F1: 0.314410480349345\n"
          ]
        }
      ]
    },
    {
      "cell_type": "code",
      "source": [
        "from sklearn.metrics import accuracy_score\n",
        "from sklearn.metrics import precision_score\n",
        "from sklearn.metrics import recall_score\n",
        "from sklearn.metrics import f1_score"
      ],
      "metadata": {
        "id": "swG8Qxc8IQDR"
      },
      "execution_count": null,
      "outputs": []
    },
    {
      "cell_type": "markdown",
      "source": [
        "SVM (Support Vector Machine)\n",
        "\n",
        "\n"
      ],
      "metadata": {
        "id": "BU_-kQpyKn1y"
      }
    },
    {
      "cell_type": "code",
      "source": [
        "from sklearn import svm"
      ],
      "metadata": {
        "id": "3T4ADXkYO86s"
      },
      "execution_count": null,
      "outputs": []
    },
    {
      "cell_type": "code",
      "source": [
        "tco = TColumns()\n",
        " \n",
        "cvt = CountVectorizer(strip_accents='ascii', lowercase=True, stop_words=stop)\n",
        " \n",
        "tfi = TfidfTransformer(use_idf=True)\n",
        " \n",
        "svm = svm.SVC()\n",
        " \n",
        "svm_pipeline = Pipeline(steps=[('Transformer', tco),\n",
        "                              ('CountVectorizer', cvt),\n",
        "                              ('TfidfTransformer', tfi),\n",
        "                              ('Model', svm)])"
      ],
      "metadata": {
        "id": "0tIKMYCFO-KD"
      },
      "execution_count": null,
      "outputs": []
    },
    {
      "cell_type": "code",
      "source": [
        "entrada = dataset[['body']]\n",
        "saida = dataset['level_1']\n",
        "X_train, X_test, y_train, y_test = train_test_split(entrada, \n",
        "                                                    saida, \n",
        "                                                    test_size=0.3)\n",
        "svm_pipeline.fit(X_train, y_train)"
      ],
      "metadata": {
        "colab": {
          "base_uri": "https://localhost:8080/"
        },
        "id": "amfH2QKWPOxI",
        "outputId": "e760cae7-c0b1-419f-bf10-19c9f1cf8487"
      },
      "execution_count": null,
      "outputs": [
        {
          "output_type": "stream",
          "name": "stderr",
          "text": [
            "/usr/local/lib/python3.7/dist-packages/sklearn/feature_extraction/text.py:401: UserWarning: Your stop_words may be inconsistent with your preprocessing. Tokenizing the stop words generated tokens ['aren', 'couldn', 'didn', 'doesn', 'hadn', 'hasn', 'haven', 'isn', 'let', 'll', 'mustn', 're', 'shan', 'shouldn', 've', 'wasn', 'weren', 'won', 'wouldn'] not in stop_words.\n",
            "  % sorted(inconsistent)\n"
          ]
        },
        {
          "output_type": "execute_result",
          "data": {
            "text/plain": [
              "Pipeline(steps=[('Transformer', TColumns()),\n",
              "                ('CountVectorizer',\n",
              "                 CountVectorizer(stop_words=['i', 'me', 'my', 'myself', 'we',\n",
              "                                             'our', 'ours', 'ourselves', 'you',\n",
              "                                             'your', 'yours', 'yourself',\n",
              "                                             'yourselves', 'he', 'him', 'his',\n",
              "                                             'himself', 'she', 'her', 'hers',\n",
              "                                             'herself', 'it', 'its', 'itself',\n",
              "                                             'they', 'them', 'their', 'theirs',\n",
              "                                             'themselves', 'what', ...],\n",
              "                                 strip_accents='ascii')),\n",
              "                ('TfidfTransformer', TfidfTransformer()), ('Model', SVC())])"
            ]
          },
          "metadata": {},
          "execution_count": 102
        }
      ]
    },
    {
      "cell_type": "code",
      "source": [
        "predictions_teste_svm = knn_pipeline.predict(X_test)"
      ],
      "metadata": {
        "id": "5k_-r5-jPQaE"
      },
      "execution_count": null,
      "outputs": []
    },
    {
      "cell_type": "code",
      "source": [
        "print(\"Acurácia: {}\".format(metrics.accuracy_score(y_test, predictions_teste_svm)))\n",
        "print(\"Precision: {}\".format(metrics.precision_score(y_test, predictions_teste_svm)))\n",
        "print(\"Recall: {}\".format(metrics.recall_score(y_test, predictions_teste_svm)))\n",
        "print(\"F1: {}\".format(metrics.f1_score(y_test, predictions_teste_svm)))"
      ],
      "metadata": {
        "colab": {
          "base_uri": "https://localhost:8080/"
        },
        "id": "Zs3iDpo4PSB0",
        "outputId": "d115d5d2-eec7-44a8-b75a-f09fb4822b0f"
      },
      "execution_count": null,
      "outputs": [
        {
          "output_type": "stream",
          "name": "stdout",
          "text": [
            "Acurácia: 0.9344178952719878\n",
            "Precision: 0.9733333333333334\n",
            "Recall: 0.365\n",
            "F1: 0.5309090909090909\n"
          ]
        }
      ]
    },
    {
      "cell_type": "markdown",
      "source": [
        "BERT (unweighted)"
      ],
      "metadata": {
        "id": "0kQCkIyGzREv"
      }
    },
    {
      "cell_type": "markdown",
      "source": [
        "BERT (weighted)"
      ],
      "metadata": {
        "id": "gHsWoMNLzV-B"
      }
    },
    {
      "cell_type": "markdown",
      "source": [
        "Tabela de resultado de cada modelo"
      ],
      "metadata": {
        "id": "A9CXOX1bRGu9"
      }
    },
    {
      "cell_type": "code",
      "source": [
        "\n",
        "\n",
        "print(\"====================================\")\n",
        "print(\"Árvore de Decisão\")\n",
        "print(\"====================================\")\n",
        "print(\"Acuracia = %f\" % evaluator.evaluate(predictions_teste_arvore, {evaluator.metricName:'accuracy'}))\n",
        "print(\"Precisão = %f\" % evaluator.evaluate(predictions_teste_arvore, {evaluator.metricName:'precisionByLabel'}))\n",
        "print(\"Recall = %f\" % evaluator.evaluate(predictions_teste_arvore, {evaluator.metricName:'recallByLabel'}))\n",
        "print(\"F1 = %f\" % evaluator.evaluate(predictions_teste_arvore, {evaluator.metricName:'fMeasureByLabel'}))\n",
        "\n",
        "print(\"====================================\")\n",
        "print(\"Random Forest\")\n",
        "print(\"====================================\")\n",
        "print(\"Acuracia = %f\" % evaluator.evaluate(predictions_teste_randomforest, {evaluator.metricName:'accuracy'}))\n",
        "print(\"Precisão = %f\" % evaluator.evaluate(predictions_teste_randomforest, {evaluator.metricName:'precisionByLabel'}))\n",
        "print(\"Recall = %f\" % evaluator.evaluate(predictions_teste_randomforest, {evaluator.metricName:'recallByLabel'}))\n",
        "print(\"F1 = %f\" % evaluator.evaluate(predictions_teste_randomforest, {evaluator.metricName:'fMeasureByLabel'}))\n",
        "\n",
        "print(\"====================================\")\n",
        "print(\"Regressão Logistica\")\n",
        "print(\"====================================\")\n",
        "print(\"Acuracia = %f\" % evaluator.evaluate(predictions_teste_logisticregression, {evaluator.metricName:'accuracy'}))\n",
        "print(\"Precisão = %f\" % evaluator.evaluate(predictions_teste_logisticregression, {evaluator.metricName:'precisionByLabel'}))\n",
        "print(\"Recall = %f\" % evaluator.evaluate(predictions_teste_logisticregression, {evaluator.metricName:'recallByLabel'}))\n",
        "print(\"F1 = %f\" % evaluator.evaluate(predictions_teste_logisticregression, {evaluator.metricName:'fMeasureByLabel'}))\n",
        "\n",
        "print(\"====================================\")\n",
        "print(\"Naive Bayes\")\n",
        "print(\"====================================\")\n",
        "print(\"Acuracia = %f\" % evaluator.evaluate(predictions_teste_naive, {evaluator.metricName:'accuracy'}))\n",
        "print(\"Precisão = %f\" % evaluator.evaluate(predictions_teste_naive, {evaluator.metricName:'precisionByLabel'}))\n",
        "print(\"Recall = %f\" % evaluator.evaluate(predictions_teste_naive, {evaluator.metricName:'recallByLabel'}))\n",
        "print(\"F1 = %f\" % evaluator.evaluate(predictions_teste_naive, {evaluator.metricName:'fMeasureByLabel'}))\n",
        "\n",
        "\n",
        "print(\"====================================\")\n",
        "print(\"KNN\")\n",
        "print(\"====================================\")\n",
        "print(\"Acurácia: {}\".format(metrics.accuracy_score(y_test, predictions_teste_knn)))\n",
        "print(\"Precision: {}\".format(metrics.precision_score(y_test, predictions_teste_knn)))\n",
        "print(\"Recall: {}\".format(metrics.recall_score(y_test, predictions_teste_knn)))\n",
        "print(\"F1: {}\".format(metrics.f1_score(y_test, predictions_teste_knn)))\n",
        "\n",
        "\n",
        "print(\"====================================\")\n",
        "print(\"SVM\")\n",
        "print(\"====================================\")\n",
        "print(\"Acurácia: {}\".format(metrics.accuracy_score(y_test, predictions_teste_svm)))\n",
        "print(\"Precision: {}\".format(metrics.precision_score(y_test, predictions_teste_svm)))\n",
        "print(\"Recall: {}\".format(metrics.recall_score(y_test, predictions_teste_svm)))\n",
        "print(\"F1: {}\".format(metrics.f1_score(y_test, predictions_teste_svm)))\n",
        "print(\"====================================\")"
      ],
      "metadata": {
        "colab": {
          "base_uri": "https://localhost:8080/"
        },
        "id": "54p0XlixRKJF",
        "outputId": "33bd1e69-3ed2-46f4-f871-adf5157ab056"
      },
      "execution_count": null,
      "outputs": [
        {
          "output_type": "stream",
          "name": "stdout",
          "text": [
            "====================================\n",
            "Árvore de Decisão\n",
            "====================================\n",
            "Acuracia = 0.929972\n",
            "Precisão = 0.928152\n",
            "Recall = 0.998423\n",
            "F1 = 0.962006\n",
            "====================================\n",
            "Random Forest\n",
            "====================================\n",
            "Acuracia = 0.000700\n",
            "Precisão = 1.000000\n",
            "Recall = 0.000789\n",
            "F1 = 0.001576\n",
            "====================================\n",
            "Regressão Logistica\n",
            "====================================\n",
            "Acuracia = 0.992997\n",
            "Precisão = 0.996072\n",
            "Recall = 1.000000\n",
            "F1 = 0.998032\n",
            "====================================\n",
            "Naive Bayes\n",
            "====================================\n",
            "Acuracia = 0.815126\n",
            "Precisão = 0.990431\n",
            "Recall = 0.816246\n",
            "F1 = 0.894942\n",
            "====================================\n",
            "KNN\n",
            "====================================\n",
            "Acurácia: 0.8805287239450941\n",
            "Precision: 0.02702702702702703\n",
            "Recall: 0.005\n",
            "F1: 0.008438818565400845\n",
            "====================================\n",
            "SVM\n",
            "====================================\n",
            "Acurácia: 0.9344178952719878\n",
            "Precision: 0.9733333333333334\n",
            "Recall: 0.365\n",
            "F1: 0.5309090909090909\n",
            "====================================\n"
          ]
        }
      ]
    }
  ],
  "metadata": {
    "colab": {
      "collapsed_sections": [],
      "provenance": [],
      "include_colab_link": true
    },
    "kernelspec": {
      "display_name": "Python 3",
      "name": "python3"
    },
    "language_info": {
      "name": "python"
    }
  },
  "nbformat": 4,
  "nbformat_minor": 0
}